{
 "cells": [
  {
   "cell_type": "code",
   "execution_count": 2,
   "id": "c98ddf5b",
   "metadata": {
    "executionInfo": {
     "elapsed": 504,
     "status": "ok",
     "timestamp": 1692735304893,
     "user": {
      "displayName": "Applied AI",
      "userId": "13061182627446198291"
     },
     "user_tz": -330
    },
    "id": "c98ddf5b"
   },
   "outputs": [],
   "source": []
  },
  {
   "cell_type": "code",
   "execution_count": 2,
   "id": "686e6c1d",
   "metadata": {
    "executionInfo": {
     "elapsed": 552,
     "status": "ok",
     "timestamp": 1692735307940,
     "user": {
      "displayName": "Applied AI",
      "userId": "13061182627446198291"
     },
     "user_tz": -330
    },
    "id": "686e6c1d"
   },
   "outputs": [],
   "source": []
  },
  {
   "cell_type": "code",
   "execution_count": 2,
   "id": "4f1c8f90",
   "metadata": {
    "executionInfo": {
     "elapsed": 45,
     "status": "ok",
     "timestamp": 1692735307946,
     "user": {
      "displayName": "Applied AI",
      "userId": "13061182627446198291"
     },
     "user_tz": -330
    },
    "id": "4f1c8f90"
   },
   "outputs": [],
   "source": []
  },
  {
   "cell_type": "code",
   "execution_count": 2,
   "id": "a278b904",
   "metadata": {
    "executionInfo": {
     "elapsed": 46,
     "status": "ok",
     "timestamp": 1692735307948,
     "user": {
      "displayName": "Applied AI",
      "userId": "13061182627446198291"
     },
     "user_tz": -330
    },
    "id": "a278b904"
   },
   "outputs": [],
   "source": []
  },
  {
   "cell_type": "markdown",
   "id": "60ba04b8",
   "metadata": {
    "id": "60ba04b8"
   },
   "source": [
    "### What we often do in this use-case\n",
    "    High level over-view..\n",
    "    \n",
    "   \n",
    "    Note :->>\n",
    "    \n",
    "    We will solve most of those challenges that we often face in real world..\n",
    "    we will focus primarily on each & every part of data science life-cycle..\n",
    "    \n",
    "    \n",
    "     Life- Cycle of Data Science Project :\n",
    "        a) Data collection\n",
    "        b) Perform Data Cleaning / Data Preparation / Data Pre-processing\n",
    "        c) Data visuaslisation(EDA)\n",
    "        d) Perform feature engineering\n",
    "            I)  Feature encoding\n",
    "            II) checking outliers & impute it..\n",
    "            III)Feature selection or feature importance\n",
    "            \n",
    "        e) build machine leaning model & dump it..\n",
    "        f) Automate ML Pipeline\n",
    "        g) hypertune ml model..along with cross validation\n",
    "\n",
    "    "
   ]
  },
  {
   "cell_type": "code",
   "execution_count": 2,
   "id": "27e74c9f",
   "metadata": {
    "executionInfo": {
     "elapsed": 47,
     "status": "ok",
     "timestamp": 1692735307950,
     "user": {
      "displayName": "Applied AI",
      "userId": "13061182627446198291"
     },
     "user_tz": -330
    },
    "id": "27e74c9f"
   },
   "outputs": [],
   "source": []
  },
  {
   "cell_type": "markdown",
   "id": "446a49ae",
   "metadata": {
    "id": "446a49ae"
   },
   "source": [
    "## 1.. Lets read data !"
   ]
  },
  {
   "cell_type": "code",
   "execution_count": 3,
   "id": "029a5457",
   "metadata": {
    "executionInfo": {
     "elapsed": 48,
     "status": "ok",
     "timestamp": 1692735307953,
     "user": {
      "displayName": "Applied AI",
      "userId": "13061182627446198291"
     },
     "user_tz": -330
    },
    "id": "029a5457"
   },
   "outputs": [],
   "source": [
    "## import necessary packages !\n",
    "\n",
    "import pandas as pd\n",
    "import numpy as np\n",
    "import matplotlib.pyplot as plt\n",
    "import seaborn as sns"
   ]
  },
  {
   "cell_type": "code",
   "execution_count": 4,
   "id": "m9YomZ7m3-H7",
   "metadata": {
    "colab": {
     "base_uri": "https://localhost:8080/",
     "height": 175
    },
    "executionInfo": {
     "elapsed": 64,
     "status": "error",
     "timestamp": 1692735307973,
     "user": {
      "displayName": "Applied AI",
      "userId": "13061182627446198291"
     },
     "user_tz": -330
    },
    "id": "m9YomZ7m3-H7",
    "outputId": "4c58911a-7fa2-4983-d7b8-3109ae43d4d6"
   },
   "outputs": [
    {
     "ename": "NameError",
     "evalue": "ignored",
     "output_type": "error",
     "traceback": [
      "\u001b[0;31m---------------------------------------------------------------------------\u001b[0m",
      "\u001b[0;31mNameError\u001b[0m                                 Traceback (most recent call last)",
      "\u001b[0;32m<ipython-input-4-4b13ab8f0e5b>\u001b[0m in \u001b[0;36m<cell line: 1>\u001b[0;34m()\u001b[0m\n\u001b[0;32m----> 1\u001b[0;31m \u001b[0mjmhd\u001b[0m\u001b[0;34m\u001b[0m\u001b[0;34m\u001b[0m\u001b[0m\n\u001b[0m",
      "\u001b[0;31mNameError\u001b[0m: name 'jmhd' is not defined"
     ]
    }
   ],
   "source": [
    "\n",
    "\n",
    "jmhd"
   ]
  },
  {
   "cell_type": "markdown",
   "id": "ff2e6b35",
   "metadata": {
    "id": "ff2e6b35"
   },
   "source": [
    "#### Importing dataset\n",
    "    Since data is in form of excel file we have to use pandas read_excel to load the data\n"
   ]
  },
  {
   "cell_type": "code",
   "execution_count": null,
   "id": "41996111",
   "metadata": {
    "executionInfo": {
     "elapsed": 7412,
     "status": "aborted",
     "timestamp": 1692735307975,
     "user": {
      "displayName": "Applied AI",
      "userId": "13061182627446198291"
     },
     "user_tz": -330
    },
    "id": "41996111"
   },
   "outputs": [],
   "source": [
    "train_data = pd.read_excel(r\"Z:\\Flight_Price\\Datasets/Data_Train.xlsx\")"
   ]
  },
  {
   "cell_type": "code",
   "execution_count": null,
   "id": "43dde8f5",
   "metadata": {
    "executionInfo": {
     "elapsed": 7394,
     "status": "aborted",
     "timestamp": 1692735307982,
     "user": {
      "displayName": "Applied AI",
      "userId": "13061182627446198291"
     },
     "user_tz": -330
    },
    "id": "43dde8f5"
   },
   "outputs": [],
   "source": [
    "train_data.head(4)"
   ]
  },
  {
   "cell_type": "code",
   "execution_count": null,
   "id": "564e8a30",
   "metadata": {
    "executionInfo": {
     "elapsed": 7347,
     "status": "aborted",
     "timestamp": 1692735307983,
     "user": {
      "displayName": "Applied AI",
      "userId": "13061182627446198291"
     },
     "user_tz": -330
    },
    "id": "564e8a30"
   },
   "outputs": [],
   "source": [
    "train_data.tail(4)"
   ]
  },
  {
   "cell_type": "code",
   "execution_count": null,
   "id": "73934f25",
   "metadata": {
    "executionInfo": {
     "elapsed": 7345,
     "status": "aborted",
     "timestamp": 1692735307985,
     "user": {
      "displayName": "Applied AI",
      "userId": "13061182627446198291"
     },
     "user_tz": -330
    },
    "id": "73934f25"
   },
   "outputs": [],
   "source": []
  },
  {
   "cell_type": "code",
   "execution_count": null,
   "id": "55966911",
   "metadata": {
    "executionInfo": {
     "elapsed": 7344,
     "status": "aborted",
     "timestamp": 1692735307988,
     "user": {
      "displayName": "Applied AI",
      "userId": "13061182627446198291"
     },
     "user_tz": -330
    },
    "id": "55966911"
   },
   "outputs": [],
   "source": []
  },
  {
   "cell_type": "code",
   "execution_count": null,
   "id": "fda2050c",
   "metadata": {
    "executionInfo": {
     "elapsed": 7342,
     "status": "aborted",
     "timestamp": 1692735307989,
     "user": {
      "displayName": "Applied AI",
      "userId": "13061182627446198291"
     },
     "user_tz": -330
    },
    "id": "fda2050c"
   },
   "outputs": [],
   "source": []
  },
  {
   "cell_type": "code",
   "execution_count": null,
   "id": "c07383bb",
   "metadata": {
    "executionInfo": {
     "elapsed": 7341,
     "status": "aborted",
     "timestamp": 1692735307991,
     "user": {
      "displayName": "Applied AI",
      "userId": "13061182627446198291"
     },
     "user_tz": -330
    },
    "id": "c07383bb"
   },
   "outputs": [],
   "source": []
  },
  {
   "cell_type": "markdown",
   "id": "126292fb",
   "metadata": {
    "id": "126292fb"
   },
   "source": [
    "## 2.. Lets deal with missing values .."
   ]
  },
  {
   "cell_type": "code",
   "execution_count": null,
   "id": "e0ff68eb",
   "metadata": {
    "executionInfo": {
     "elapsed": 7333,
     "status": "aborted",
     "timestamp": 1692735307996,
     "user": {
      "displayName": "Applied AI",
      "userId": "13061182627446198291"
     },
     "user_tz": -330
    },
    "id": "e0ff68eb"
   },
   "outputs": [],
   "source": [
    "train_data.info()"
   ]
  },
  {
   "cell_type": "code",
   "execution_count": null,
   "id": "748bfc71",
   "metadata": {
    "executionInfo": {
     "elapsed": 7331,
     "status": "aborted",
     "timestamp": 1692735307997,
     "user": {
      "displayName": "Applied AI",
      "userId": "13061182627446198291"
     },
     "user_tz": -330
    },
    "id": "748bfc71"
   },
   "outputs": [],
   "source": [
    "'''\n",
    "\n",
    "10 features belong to object data-type , ie.. in context to Python , they belong to string data-type\n",
    "\n",
    "\n",
    "1 feature belong to int64 nature  , ie\n",
    "Variations of int are : ('int64','int32','int16') in numpy library..\n",
    "\n",
    "\n",
    "\n",
    "Int16 is a 16 bit signed integer , it means it can store both positive & negative values\n",
    "int16 has has a range of  (2^15 − 1) to -2^15\n",
    "int16 has a length of 16 bits (2 bytes).. ie Int16 uses 16 bits to store data\n",
    "\n",
    "\n",
    "Int32 is a 32 bit signed integer , it means it storesboth positive & negative values\n",
    "int32 has has a range of (2³¹ − 1) to  -2^31\n",
    "int32 has a length of 32 bits (4 bytes),, ie Int32 uses 32 bits to store data\n",
    "\n",
    "\n",
    "Int64 is a 64 bit signed integer , it means it can store both positive & negative values\n",
    "int64 has has a range of  (2^63 − 1) to -2^63\n",
    "int64 has a length of 64 bits (8 bytes) , ie Int64 uses 64 bits to store data\n",
    "\n",
    "The only difference is that int64 has max range of storing numbers , then comes int32 , then 16 , then int8\n",
    "\n",
    "That means that Int64’s take up twice as much memory-and doing\n",
    "operations on them may be a lot slower in some machine architectures.\n",
    "\n",
    "However, Int64’s can represent numbers much more accurately than\n",
    "32 bit floats.They also allow much larger numbers to be stored..\n",
    "\n",
    "\n",
    "\n",
    "\n",
    "\n",
    "\n",
    "\n",
    "The memory usage of a DataFrame (including the index) is shown when calling the info().\n",
    "A configuration option, display.memory_usage (see the list of options), specifies if the DataFrame’s memory usage\n",
    " will be displayed when invoking the df.info() method..\n",
    "\n",
    "memory usage: 918.2+ KB\n",
    "The + symbol indicates that the true memory usage could be higher,\n",
    "because pandas does not count the memory used by values in columns with dtype=object\n",
    "\n",
    "\n",
    "Passing memory_usage='deep' will enable a more accurate memory usage report .\n",
    "\n",
    "'''"
   ]
  },
  {
   "cell_type": "code",
   "execution_count": null,
   "id": "f970d8ec",
   "metadata": {
    "executionInfo": {
     "elapsed": 7313,
     "status": "aborted",
     "timestamp": 1692735308000,
     "user": {
      "displayName": "Applied AI",
      "userId": "13061182627446198291"
     },
     "user_tz": -330
    },
    "id": "f970d8ec"
   },
   "outputs": [],
   "source": [
    "## After loading it is important to check null/missing values in a column or a row\n",
    "## Missing value :  values which occur when no data is recorded for an observation..\n",
    "\n",
    "train_data.isnull().sum()\n",
    "\n",
    "## train_data.isnull().sum(axis=0)\n",
    "## by-default axis is 0 , ie it computes total missing values column-wise !"
   ]
  },
  {
   "cell_type": "code",
   "execution_count": null,
   "id": "7e3bf9f2",
   "metadata": {
    "executionInfo": {
     "elapsed": 7301,
     "status": "aborted",
     "timestamp": 1692735308003,
     "user": {
      "displayName": "Applied AI",
      "userId": "13061182627446198291"
     },
     "user_tz": -330
    },
    "id": "7e3bf9f2"
   },
   "outputs": [],
   "source": [
    "train_data['Total_Stops'].isnull()"
   ]
  },
  {
   "cell_type": "code",
   "execution_count": null,
   "id": "f57d0109",
   "metadata": {
    "executionInfo": {
     "elapsed": 7272,
     "status": "aborted",
     "timestamp": 1692735308005,
     "user": {
      "displayName": "Applied AI",
      "userId": "13061182627446198291"
     },
     "user_tz": -330
    },
    "id": "f57d0109"
   },
   "outputs": [],
   "source": [
    "### getting all the rows where we have missing value\n",
    "\n",
    "train_data[train_data['Total_Stops'].isnull()]"
   ]
  },
  {
   "cell_type": "code",
   "execution_count": null,
   "id": "281c4927",
   "metadata": {
    "executionInfo": {
     "elapsed": 7282,
     "status": "aborted",
     "timestamp": 1692735308019,
     "user": {
      "displayName": "Applied AI",
      "userId": "13061182627446198291"
     },
     "user_tz": -330
    },
    "id": "281c4927"
   },
   "outputs": [],
   "source": []
  },
  {
   "cell_type": "markdown",
   "id": "900a518f",
   "metadata": {
    "id": "900a518f"
   },
   "source": [
    "#### as we have 1 missing value , I can directly drop these"
   ]
  },
  {
   "cell_type": "code",
   "execution_count": 5,
   "id": "826f31fd",
   "metadata": {
    "colab": {
     "base_uri": "https://localhost:8080/",
     "height": 175
    },
    "executionInfo": {
     "elapsed": 103,
     "status": "error",
     "timestamp": 1692735309671,
     "user": {
      "displayName": "Applied AI",
      "userId": "13061182627446198291"
     },
     "user_tz": -330
    },
    "id": "826f31fd",
    "outputId": "c232bda5-5b48-447e-cf2b-ca1a98116021"
   },
   "outputs": [
    {
     "ename": "NameError",
     "evalue": "ignored",
     "output_type": "error",
     "traceback": [
      "\u001b[0;31m---------------------------------------------------------------------------\u001b[0m",
      "\u001b[0;31mNameError\u001b[0m                                 Traceback (most recent call last)",
      "\u001b[0;32m<ipython-input-5-81a9f6657d05>\u001b[0m in \u001b[0;36m<cell line: 1>\u001b[0;34m()\u001b[0m\n\u001b[0;32m----> 1\u001b[0;31m \u001b[0mtrain_data\u001b[0m\u001b[0;34m.\u001b[0m\u001b[0mdropna\u001b[0m\u001b[0;34m(\u001b[0m\u001b[0minplace\u001b[0m\u001b[0;34m=\u001b[0m\u001b[0;32mTrue\u001b[0m\u001b[0;34m)\u001b[0m\u001b[0;34m\u001b[0m\u001b[0;34m\u001b[0m\u001b[0m\n\u001b[0m",
      "\u001b[0;31mNameError\u001b[0m: name 'train_data' is not defined"
     ]
    }
   ],
   "source": [
    "train_data.dropna(inplace=True)"
   ]
  },
  {
   "cell_type": "code",
   "execution_count": null,
   "id": "a0d27fe7",
   "metadata": {
    "executionInfo": {
     "elapsed": 7265,
     "status": "aborted",
     "timestamp": 1692735308020,
     "user": {
      "displayName": "Applied AI",
      "userId": "13061182627446198291"
     },
     "user_tz": -330
    },
    "id": "a0d27fe7"
   },
   "outputs": [],
   "source": [
    "train_data.isnull().sum()"
   ]
  },
  {
   "cell_type": "code",
   "execution_count": null,
   "id": "111dd46f",
   "metadata": {
    "executionInfo": {
     "elapsed": 7274,
     "status": "aborted",
     "timestamp": 1692735308032,
     "user": {
      "displayName": "Applied AI",
      "userId": "13061182627446198291"
     },
     "user_tz": -330
    },
    "id": "111dd46f"
   },
   "outputs": [],
   "source": []
  },
  {
   "cell_type": "code",
   "execution_count": null,
   "id": "76c8de4d",
   "metadata": {
    "executionInfo": {
     "elapsed": 7260,
     "status": "aborted",
     "timestamp": 1692735308035,
     "user": {
      "displayName": "Applied AI",
      "userId": "13061182627446198291"
     },
     "user_tz": -330
    },
    "id": "76c8de4d"
   },
   "outputs": [],
   "source": [
    "train_data.dtypes"
   ]
  },
  {
   "cell_type": "code",
   "execution_count": null,
   "id": "e5e4d1ce",
   "metadata": {
    "executionInfo": {
     "elapsed": 7245,
     "status": "aborted",
     "timestamp": 1692735308036,
     "user": {
      "displayName": "Applied AI",
      "userId": "13061182627446198291"
     },
     "user_tz": -330
    },
    "id": "e5e4d1ce"
   },
   "outputs": [],
   "source": [
    "### In order to more accurate memory usage , u can leverage memory_usage=\"deep\" in info()\n",
    "train_data.info(memory_usage=\"deep\")"
   ]
  },
  {
   "cell_type": "code",
   "execution_count": 5,
   "id": "75a85c19",
   "metadata": {
    "executionInfo": {
     "elapsed": 102,
     "status": "ok",
     "timestamp": 1692735309674,
     "user": {
      "displayName": "Applied AI",
      "userId": "13061182627446198291"
     },
     "user_tz": -330
    },
    "id": "75a85c19"
   },
   "outputs": [],
   "source": []
  },
  {
   "cell_type": "code",
   "execution_count": 5,
   "id": "ebeb508f",
   "metadata": {
    "executionInfo": {
     "elapsed": 104,
     "status": "ok",
     "timestamp": 1692735309681,
     "user": {
      "displayName": "Applied AI",
      "userId": "13061182627446198291"
     },
     "user_tz": -330
    },
    "id": "ebeb508f"
   },
   "outputs": [],
   "source": []
  },
  {
   "cell_type": "code",
   "execution_count": 5,
   "id": "1eb55b34",
   "metadata": {
    "executionInfo": {
     "elapsed": 104,
     "status": "ok",
     "timestamp": 1692735309682,
     "user": {
      "displayName": "Applied AI",
      "userId": "13061182627446198291"
     },
     "user_tz": -330
    },
    "id": "1eb55b34"
   },
   "outputs": [],
   "source": []
  },
  {
   "cell_type": "code",
   "execution_count": 5,
   "id": "720b4d7f",
   "metadata": {
    "executionInfo": {
     "elapsed": 106,
     "status": "ok",
     "timestamp": 1692735309685,
     "user": {
      "displayName": "Applied AI",
      "userId": "13061182627446198291"
     },
     "user_tz": -330
    },
    "id": "720b4d7f"
   },
   "outputs": [],
   "source": []
  },
  {
   "cell_type": "markdown",
   "id": "182e3356",
   "metadata": {
    "id": "182e3356"
   },
   "source": [
    "## 3.. Lets Perform Data Pre-process & extract Derived attributes from \"Date_of_Journey\"\n",
    "        lets extract derived attributes from \"Date_of_Journey\" & fetch day , month , year !"
   ]
  },
  {
   "cell_type": "code",
   "execution_count": 6,
   "id": "3b2353b1",
   "metadata": {
    "colab": {
     "base_uri": "https://localhost:8080/",
     "height": 175
    },
    "executionInfo": {
     "elapsed": 118,
     "status": "error",
     "timestamp": 1692735309698,
     "user": {
      "displayName": "Applied AI",
      "userId": "13061182627446198291"
     },
     "user_tz": -330
    },
    "id": "3b2353b1",
    "outputId": "7efc337c-74da-492c-be6c-606e3f046f7d"
   },
   "outputs": [
    {
     "ename": "NameError",
     "evalue": "ignored",
     "output_type": "error",
     "traceback": [
      "\u001b[0;31m---------------------------------------------------------------------------\u001b[0m",
      "\u001b[0;31mNameError\u001b[0m                                 Traceback (most recent call last)",
      "\u001b[0;32m<ipython-input-6-6eb12581075d>\u001b[0m in \u001b[0;36m<cell line: 1>\u001b[0;34m()\u001b[0m\n\u001b[0;32m----> 1\u001b[0;31m \u001b[0mdata\u001b[0m \u001b[0;34m=\u001b[0m \u001b[0mtrain_data\u001b[0m\u001b[0;34m.\u001b[0m\u001b[0mcopy\u001b[0m\u001b[0;34m(\u001b[0m\u001b[0;34m)\u001b[0m\u001b[0;34m\u001b[0m\u001b[0;34m\u001b[0m\u001b[0m\n\u001b[0m",
      "\u001b[0;31mNameError\u001b[0m: name 'train_data' is not defined"
     ]
    }
   ],
   "source": [
    "data = train_data.copy()"
   ]
  },
  {
   "cell_type": "code",
   "execution_count": null,
   "id": "2b424d13",
   "metadata": {
    "executionInfo": {
     "elapsed": 7224,
     "status": "aborted",
     "timestamp": 1692735308037,
     "user": {
      "displayName": "Applied AI",
      "userId": "13061182627446198291"
     },
     "user_tz": -330
    },
    "id": "2b424d13"
   },
   "outputs": [],
   "source": []
  },
  {
   "cell_type": "code",
   "execution_count": null,
   "id": "e844ec24",
   "metadata": {
    "executionInfo": {
     "elapsed": 7205,
     "status": "aborted",
     "timestamp": 1692735308038,
     "user": {
      "displayName": "Applied AI",
      "userId": "13061182627446198291"
     },
     "user_tz": -330
    },
    "id": "e844ec24"
   },
   "outputs": [],
   "source": [
    "data.columns"
   ]
  },
  {
   "cell_type": "code",
   "execution_count": null,
   "id": "9d95ff20",
   "metadata": {
    "executionInfo": {
     "elapsed": 7163,
     "status": "aborted",
     "timestamp": 1692735308038,
     "user": {
      "displayName": "Applied AI",
      "userId": "13061182627446198291"
     },
     "user_tz": -330
    },
    "id": "9d95ff20"
   },
   "outputs": [],
   "source": [
    "data.head(2)"
   ]
  },
  {
   "cell_type": "code",
   "execution_count": null,
   "id": "35de855f",
   "metadata": {
    "executionInfo": {
     "elapsed": 7151,
     "status": "aborted",
     "timestamp": 1692735308039,
     "user": {
      "displayName": "Applied AI",
      "userId": "13061182627446198291"
     },
     "user_tz": -330
    },
    "id": "35de855f"
   },
   "outputs": [],
   "source": []
  },
  {
   "cell_type": "code",
   "execution_count": null,
   "id": "6f747b5b",
   "metadata": {
    "executionInfo": {
     "elapsed": 7137,
     "status": "aborted",
     "timestamp": 1692735308040,
     "user": {
      "displayName": "Applied AI",
      "userId": "13061182627446198291"
     },
     "user_tz": -330
    },
    "id": "6f747b5b"
   },
   "outputs": [],
   "source": [
    "data.dtypes"
   ]
  },
  {
   "cell_type": "markdown",
   "id": "0a045bc1",
   "metadata": {
    "id": "0a045bc1"
   },
   "source": [
    "#### From description we can see that Date_of_Journey is a object data type,\n",
    "     Therefore, we have to convert this datatype into timestamp so as to use this column properly for prediction,bcz our\n",
    "     model will not be able to understand these string values,it just understand Time-stamp\n",
    "    For this we require pandas to_datetime to convert object data type to datetime dtype."
   ]
  },
  {
   "cell_type": "code",
   "execution_count": null,
   "id": "3a6578da",
   "metadata": {
    "executionInfo": {
     "elapsed": 7134,
     "status": "aborted",
     "timestamp": 1692735308041,
     "user": {
      "displayName": "Applied AI",
      "userId": "13061182627446198291"
     },
     "user_tz": -330
    },
    "id": "3a6578da"
   },
   "outputs": [],
   "source": [
    "'''\n",
    "In date-time , we have 4 data-types in Pandas :\n",
    "datetime64[ns] or datetime64[ns, tz]  or datetime64[ns, UTC] or dtype('<M8[ns]')\n",
    "     means ‘big-endian’  , < is little-endian\n",
    "     imagine , data represented a single unsigned 4-byte little-endian integer, the dtype string would be <u4..\n",
    "     (u is type-character code for unsigned integer)\n",
    "\n",
    "where ,   UTC = Coordinated Universal Time\n",
    "          ns  = nano second\n",
    "          tz  = time zone\n",
    "          M =  M is a character of Data-time , just like int we have i for \"Integer\" ,\n",
    "\n",
    "\n",
    "datetime64[ns] is a general dtype, while <M8[ns] is a specific dtype , ns is basicaly nano second..\n",
    "Both are similar , it entirely how your numpy was compiled..\n",
    "\n",
    "np.dtype('datetime64[ns]') == np.dtype('<M8[ns]')\n",
    "## True\n",
    "\n",
    "'''"
   ]
  },
  {
   "cell_type": "code",
   "execution_count": null,
   "id": "56d51d93",
   "metadata": {
    "executionInfo": {
     "elapsed": 7131,
     "status": "aborted",
     "timestamp": 1692735308044,
     "user": {
      "displayName": "Applied AI",
      "userId": "13061182627446198291"
     },
     "user_tz": -330
    },
    "id": "56d51d93"
   },
   "outputs": [],
   "source": []
  },
  {
   "cell_type": "code",
   "execution_count": null,
   "id": "d7a69b76",
   "metadata": {
    "executionInfo": {
     "elapsed": 7129,
     "status": "aborted",
     "timestamp": 1692735308045,
     "user": {
      "displayName": "Applied AI",
      "userId": "13061182627446198291"
     },
     "user_tz": -330
    },
    "id": "d7a69b76"
   },
   "outputs": [],
   "source": [
    "def change_into_Datetime(col):\n",
    "    data[col] = pd.to_datetime(data[col])"
   ]
  },
  {
   "cell_type": "code",
   "execution_count": null,
   "id": "bdcf9fbf",
   "metadata": {
    "executionInfo": {
     "elapsed": 7126,
     "status": "aborted",
     "timestamp": 1692735308045,
     "user": {
      "displayName": "Applied AI",
      "userId": "13061182627446198291"
     },
     "user_tz": -330
    },
    "id": "bdcf9fbf"
   },
   "outputs": [],
   "source": [
    "import warnings\n",
    "from warnings import filterwarnings\n",
    "filterwarnings(\"ignore\")"
   ]
  },
  {
   "cell_type": "code",
   "execution_count": null,
   "id": "4c70d00d",
   "metadata": {
    "executionInfo": {
     "elapsed": 7109,
     "status": "aborted",
     "timestamp": 1692735308046,
     "user": {
      "displayName": "Applied AI",
      "userId": "13061182627446198291"
     },
     "user_tz": -330
    },
    "id": "4c70d00d"
   },
   "outputs": [],
   "source": [
    "data.columns"
   ]
  },
  {
   "cell_type": "code",
   "execution_count": null,
   "id": "98e64bbc",
   "metadata": {
    "executionInfo": {
     "elapsed": 7107,
     "status": "aborted",
     "timestamp": 1692735308047,
     "user": {
      "displayName": "Applied AI",
      "userId": "13061182627446198291"
     },
     "user_tz": -330
    },
    "id": "98e64bbc"
   },
   "outputs": [],
   "source": [
    "for feature in ['Dep_Time', 'Arrival_Time' , 'Date_of_Journey']:\n",
    "    change_into_Datetime(feature)"
   ]
  },
  {
   "cell_type": "code",
   "execution_count": null,
   "id": "1ae4cf4c",
   "metadata": {
    "executionInfo": {
     "elapsed": 7086,
     "status": "aborted",
     "timestamp": 1692735308048,
     "user": {
      "displayName": "Applied AI",
      "userId": "13061182627446198291"
     },
     "user_tz": -330
    },
    "id": "1ae4cf4c"
   },
   "outputs": [],
   "source": [
    "data.dtypes"
   ]
  },
  {
   "cell_type": "code",
   "execution_count": null,
   "id": "aed2c93c",
   "metadata": {
    "executionInfo": {
     "elapsed": 7082,
     "status": "aborted",
     "timestamp": 1692735308048,
     "user": {
      "displayName": "Applied AI",
      "userId": "13061182627446198291"
     },
     "user_tz": -330
    },
    "id": "aed2c93c"
   },
   "outputs": [],
   "source": []
  },
  {
   "cell_type": "code",
   "execution_count": null,
   "id": "b331b0f6",
   "metadata": {
    "executionInfo": {
     "elapsed": 7080,
     "status": "aborted",
     "timestamp": 1692735308049,
     "user": {
      "displayName": "Applied AI",
      "userId": "13061182627446198291"
     },
     "user_tz": -330
    },
    "id": "b331b0f6"
   },
   "outputs": [],
   "source": []
  },
  {
   "cell_type": "code",
   "execution_count": null,
   "id": "43adde44",
   "metadata": {
    "executionInfo": {
     "elapsed": 7078,
     "status": "aborted",
     "timestamp": 1692735308050,
     "user": {
      "displayName": "Applied AI",
      "userId": "13061182627446198291"
     },
     "user_tz": -330
    },
    "id": "43adde44"
   },
   "outputs": [],
   "source": [
    "data[\"Journey_day\"] = data['Date_of_Journey'].dt.day"
   ]
  },
  {
   "cell_type": "code",
   "execution_count": null,
   "id": "3095bc6d",
   "metadata": {
    "executionInfo": {
     "elapsed": 7075,
     "status": "aborted",
     "timestamp": 1692735308055,
     "user": {
      "displayName": "Applied AI",
      "userId": "13061182627446198291"
     },
     "user_tz": -330
    },
    "id": "3095bc6d"
   },
   "outputs": [],
   "source": [
    "data[\"Journey_month\"] = data['Date_of_Journey'].dt.month"
   ]
  },
  {
   "cell_type": "code",
   "execution_count": null,
   "id": "13d4128a",
   "metadata": {
    "executionInfo": {
     "elapsed": 7073,
     "status": "aborted",
     "timestamp": 1692735308056,
     "user": {
      "displayName": "Applied AI",
      "userId": "13061182627446198291"
     },
     "user_tz": -330
    },
    "id": "13d4128a"
   },
   "outputs": [],
   "source": [
    "data[\"Journey_year\"] = data['Date_of_Journey'].dt.year"
   ]
  },
  {
   "cell_type": "code",
   "execution_count": null,
   "id": "611b81d1",
   "metadata": {
    "executionInfo": {
     "elapsed": 7039,
     "status": "aborted",
     "timestamp": 1692735308058,
     "user": {
      "displayName": "Applied AI",
      "userId": "13061182627446198291"
     },
     "user_tz": -330
    },
    "id": "611b81d1"
   },
   "outputs": [],
   "source": [
    "data.head(3)"
   ]
  },
  {
   "cell_type": "code",
   "execution_count": null,
   "id": "9f45f66a",
   "metadata": {
    "executionInfo": {
     "elapsed": 7033,
     "status": "aborted",
     "timestamp": 1692735308059,
     "user": {
      "displayName": "Applied AI",
      "userId": "13061182627446198291"
     },
     "user_tz": -330
    },
    "id": "9f45f66a"
   },
   "outputs": [],
   "source": []
  },
  {
   "cell_type": "code",
   "execution_count": null,
   "id": "249facfc",
   "metadata": {
    "executionInfo": {
     "elapsed": 7022,
     "status": "aborted",
     "timestamp": 1692735308060,
     "user": {
      "displayName": "Applied AI",
      "userId": "13061182627446198291"
     },
     "user_tz": -330
    },
    "id": "249facfc"
   },
   "outputs": [],
   "source": []
  },
  {
   "cell_type": "code",
   "execution_count": null,
   "id": "e19566b6",
   "metadata": {
    "executionInfo": {
     "elapsed": 7017,
     "status": "aborted",
     "timestamp": 1692735308061,
     "user": {
      "displayName": "Applied AI",
      "userId": "13061182627446198291"
     },
     "user_tz": -330
    },
    "id": "e19566b6"
   },
   "outputs": [],
   "source": []
  },
  {
   "cell_type": "code",
   "execution_count": null,
   "id": "45cdedf8",
   "metadata": {
    "executionInfo": {
     "elapsed": 7015,
     "status": "aborted",
     "timestamp": 1692735308061,
     "user": {
      "displayName": "Applied AI",
      "userId": "13061182627446198291"
     },
     "user_tz": -330
    },
    "id": "45cdedf8"
   },
   "outputs": [],
   "source": []
  },
  {
   "cell_type": "markdown",
   "id": "a324d203",
   "metadata": {
    "id": "a324d203"
   },
   "source": [
    "## 4.. Lets try to clean Dep_Time & Arrival_Time & then extract Derived attributes .."
   ]
  },
  {
   "cell_type": "code",
   "execution_count": null,
   "id": "168fe208",
   "metadata": {
    "executionInfo": {
     "elapsed": 7012,
     "status": "aborted",
     "timestamp": 1692735308062,
     "user": {
      "displayName": "Applied AI",
      "userId": "13061182627446198291"
     },
     "user_tz": -330
    },
    "id": "168fe208"
   },
   "outputs": [],
   "source": [
    "def extract_hour_min(df , col):\n",
    "    df[col+\"_hour\"] = df[col].dt.hour\n",
    "    df[col+\"_minute\"] = df[col].dt.minute\n",
    "    return df.head(3)"
   ]
  },
  {
   "cell_type": "code",
   "execution_count": null,
   "id": "3aa2f740",
   "metadata": {
    "executionInfo": {
     "elapsed": 6998,
     "status": "aborted",
     "timestamp": 1692735308063,
     "user": {
      "displayName": "Applied AI",
      "userId": "13061182627446198291"
     },
     "user_tz": -330
    },
    "id": "3aa2f740"
   },
   "outputs": [],
   "source": [
    "data.columns"
   ]
  },
  {
   "cell_type": "code",
   "execution_count": null,
   "id": "a1592638",
   "metadata": {
    "executionInfo": {
     "elapsed": 6958,
     "status": "aborted",
     "timestamp": 1692735308064,
     "user": {
      "displayName": "Applied AI",
      "userId": "13061182627446198291"
     },
     "user_tz": -330
    },
    "id": "a1592638"
   },
   "outputs": [],
   "source": [
    "# Departure time is when a plane leaves the gate.\n",
    "\n",
    "extract_hour_min(data , \"Dep_Time\")"
   ]
  },
  {
   "cell_type": "code",
   "execution_count": null,
   "id": "a71b580e",
   "metadata": {
    "executionInfo": {
     "elapsed": 6930,
     "status": "aborted",
     "timestamp": 1692735308064,
     "user": {
      "displayName": "Applied AI",
      "userId": "13061182627446198291"
     },
     "user_tz": -330
    },
    "id": "a71b580e"
   },
   "outputs": [],
   "source": [
    "extract_hour_min(data , \"Arrival_Time\")"
   ]
  },
  {
   "cell_type": "code",
   "execution_count": null,
   "id": "f12570e5",
   "metadata": {
    "executionInfo": {
     "elapsed": 6918,
     "status": "aborted",
     "timestamp": 1692735308065,
     "user": {
      "displayName": "Applied AI",
      "userId": "13061182627446198291"
     },
     "user_tz": -330
    },
    "id": "f12570e5"
   },
   "outputs": [],
   "source": [
    "## we have extracted derived attributes from ['Arrival_Time' , \"Dep_Time\"] , so lets drop both these features ..\n",
    "cols_to_drop = ['Arrival_Time' , \"Dep_Time\"]\n",
    "\n",
    "data.drop(cols_to_drop , axis=1 , inplace=True )"
   ]
  },
  {
   "cell_type": "code",
   "execution_count": null,
   "id": "56122c0e",
   "metadata": {
    "executionInfo": {
     "elapsed": 6892,
     "status": "aborted",
     "timestamp": 1692735308066,
     "user": {
      "displayName": "Applied AI",
      "userId": "13061182627446198291"
     },
     "user_tz": -330
    },
    "id": "56122c0e"
   },
   "outputs": [],
   "source": [
    "data.head(3)"
   ]
  },
  {
   "cell_type": "code",
   "execution_count": null,
   "id": "5e04c9de",
   "metadata": {
    "executionInfo": {
     "elapsed": 6864,
     "status": "aborted",
     "timestamp": 1692735308067,
     "user": {
      "displayName": "Applied AI",
      "userId": "13061182627446198291"
     },
     "user_tz": -330
    },
    "id": "5e04c9de"
   },
   "outputs": [],
   "source": [
    "data.shape"
   ]
  },
  {
   "cell_type": "code",
   "execution_count": null,
   "id": "8b087039",
   "metadata": {
    "executionInfo": {
     "elapsed": 6817,
     "status": "aborted",
     "timestamp": 1692735308068,
     "user": {
      "displayName": "Applied AI",
      "userId": "13061182627446198291"
     },
     "user_tz": -330
    },
    "id": "8b087039"
   },
   "outputs": [],
   "source": []
  },
  {
   "cell_type": "code",
   "execution_count": null,
   "id": "e3c885e6",
   "metadata": {
    "executionInfo": {
     "elapsed": 6796,
     "status": "aborted",
     "timestamp": 1692735308069,
     "user": {
      "displayName": "Applied AI",
      "userId": "13061182627446198291"
     },
     "user_tz": -330
    },
    "id": "e3c885e6"
   },
   "outputs": [],
   "source": []
  },
  {
   "cell_type": "code",
   "execution_count": null,
   "id": "6ca068fd",
   "metadata": {
    "executionInfo": {
     "elapsed": 6791,
     "status": "aborted",
     "timestamp": 1692735308069,
     "user": {
      "displayName": "Applied AI",
      "userId": "13061182627446198291"
     },
     "user_tz": -330
    },
    "id": "6ca068fd"
   },
   "outputs": [],
   "source": []
  },
  {
   "cell_type": "code",
   "execution_count": null,
   "id": "71cf51ab",
   "metadata": {
    "executionInfo": {
     "elapsed": 6786,
     "status": "aborted",
     "timestamp": 1692735308070,
     "user": {
      "displayName": "Applied AI",
      "userId": "13061182627446198291"
     },
     "user_tz": -330
    },
    "id": "71cf51ab"
   },
   "outputs": [],
   "source": []
  },
  {
   "cell_type": "markdown",
   "id": "828c40a0",
   "metadata": {
    "id": "828c40a0"
   },
   "source": [
    "## 5.. lets analyse when will most of the flights take-off.."
   ]
  },
  {
   "cell_type": "code",
   "execution_count": null,
   "id": "29e91d7d",
   "metadata": {
    "executionInfo": {
     "elapsed": 6712,
     "status": "aborted",
     "timestamp": 1692735308071,
     "user": {
      "displayName": "Applied AI",
      "userId": "13061182627446198291"
     },
     "user_tz": -330
    },
    "id": "29e91d7d"
   },
   "outputs": [],
   "source": [
    "data.columns"
   ]
  },
  {
   "cell_type": "code",
   "execution_count": null,
   "id": "bfaf2d66",
   "metadata": {
    "executionInfo": {
     "elapsed": 6706,
     "status": "aborted",
     "timestamp": 1692735308071,
     "user": {
      "displayName": "Applied AI",
      "userId": "13061182627446198291"
     },
     "user_tz": -330
    },
    "id": "bfaf2d66"
   },
   "outputs": [],
   "source": []
  },
  {
   "cell_type": "code",
   "execution_count": null,
   "id": "b5668e43",
   "metadata": {
    "executionInfo": {
     "elapsed": 6693,
     "status": "aborted",
     "timestamp": 1692735308072,
     "user": {
      "displayName": "Applied AI",
      "userId": "13061182627446198291"
     },
     "user_tz": -330
    },
    "id": "b5668e43"
   },
   "outputs": [],
   "source": [
    "#### Converting the flight Dep_Time into proper time i.e. mid_night, morning, afternoon and evening.\n",
    "\n",
    "def flight_dep_time(x):\n",
    "    '''\n",
    "    This function takes the flight Departure time\n",
    "    and convert into appropriate format.\n",
    "\n",
    "    '''\n",
    "\n",
    "    if (x>4) and (x<=8):\n",
    "        return \"Early Morning\"\n",
    "\n",
    "    elif (x>8) and (x<=12):\n",
    "        return \"Morning\"\n",
    "\n",
    "    elif (x>12) and (x<=16):\n",
    "        return \"Noon\"\n",
    "\n",
    "    elif (x>16) and (x<=20):\n",
    "        return \"Evening\"\n",
    "\n",
    "    elif (x>20) and (x<=24):\n",
    "        return \"Night\"\n",
    "\n",
    "    else:\n",
    "        return \"late night\""
   ]
  },
  {
   "cell_type": "code",
   "execution_count": null,
   "id": "241e0f0d",
   "metadata": {
    "executionInfo": {
     "elapsed": 6632,
     "status": "aborted",
     "timestamp": 1692735308074,
     "user": {
      "displayName": "Applied AI",
      "userId": "13061182627446198291"
     },
     "user_tz": -330
    },
    "id": "241e0f0d"
   },
   "outputs": [],
   "source": [
    "data['Dep_Time_hour'].apply(flight_dep_time).value_counts().plot(kind=\"bar\" , color=\"g\")"
   ]
  },
  {
   "cell_type": "code",
   "execution_count": null,
   "id": "bfe1a009",
   "metadata": {
    "executionInfo": {
     "elapsed": 6623,
     "status": "aborted",
     "timestamp": 1692735308075,
     "user": {
      "displayName": "Applied AI",
      "userId": "13061182627446198291"
     },
     "user_tz": -330
    },
    "id": "bfe1a009"
   },
   "outputs": [],
   "source": [
    "#### how to make above graph interactive , lets use Cufflinks & plotly to make it interactive !"
   ]
  },
  {
   "cell_type": "code",
   "execution_count": null,
   "id": "72af299f",
   "metadata": {
    "executionInfo": {
     "elapsed": 6619,
     "status": "aborted",
     "timestamp": 1692735308076,
     "user": {
      "displayName": "Applied AI",
      "userId": "13061182627446198291"
     },
     "user_tz": -330
    },
    "id": "72af299f"
   },
   "outputs": [],
   "source": []
  },
  {
   "cell_type": "code",
   "execution_count": null,
   "id": "56b22b9f",
   "metadata": {
    "executionInfo": {
     "elapsed": 6613,
     "status": "aborted",
     "timestamp": 1692735308076,
     "user": {
      "displayName": "Applied AI",
      "userId": "13061182627446198291"
     },
     "user_tz": -330
    },
    "id": "56b22b9f"
   },
   "outputs": [],
   "source": [
    "##!pip install plotly\n",
    "##!pip install chart_studio"
   ]
  },
  {
   "cell_type": "code",
   "execution_count": null,
   "id": "6c4fcc42",
   "metadata": {
    "executionInfo": {
     "elapsed": 6608,
     "status": "aborted",
     "timestamp": 1692735308077,
     "user": {
      "displayName": "Applied AI",
      "userId": "13061182627446198291"
     },
     "user_tz": -330
    },
    "id": "6c4fcc42"
   },
   "outputs": [],
   "source": [
    "##!pip install cufflinks"
   ]
  },
  {
   "cell_type": "code",
   "execution_count": null,
   "id": "71e71bb5",
   "metadata": {
    "executionInfo": {
     "elapsed": 6604,
     "status": "aborted",
     "timestamp": 1692735308078,
     "user": {
      "displayName": "Applied AI",
      "userId": "13061182627446198291"
     },
     "user_tz": -330
    },
    "id": "71e71bb5"
   },
   "outputs": [],
   "source": []
  },
  {
   "cell_type": "code",
   "execution_count": null,
   "id": "a07ea4dc",
   "metadata": {
    "executionInfo": {
     "elapsed": 6546,
     "status": "aborted",
     "timestamp": 1692735308079,
     "user": {
      "displayName": "Applied AI",
      "userId": "13061182627446198291"
     },
     "user_tz": -330
    },
    "id": "a07ea4dc"
   },
   "outputs": [],
   "source": [
    "## how to use Plotly interactive plots directly with Pandas dataframes, First u need below set-up !\n",
    "\n",
    "import plotly\n",
    "import cufflinks as cf\n",
    "from cufflinks.offline import go_offline\n",
    "from plotly.offline import plot , iplot , init_notebook_mode , download_plotlyjs\n",
    "init_notebook_mode(connected=True)\n",
    "cf.go_offline()\n",
    "\n",
    "## plot is a command of Matplotlib which is more old-school. It creates static charts\n",
    "## iplot is an interactive plot. Plotly takes Python code and makes beautiful looking JavaScript plots.\n"
   ]
  },
  {
   "cell_type": "code",
   "execution_count": 7,
   "id": "d1bb7ce6",
   "metadata": {
    "colab": {
     "base_uri": "https://localhost:8080/",
     "height": 175
    },
    "executionInfo": {
     "elapsed": 323,
     "status": "error",
     "timestamp": 1692735312200,
     "user": {
      "displayName": "Applied AI",
      "userId": "13061182627446198291"
     },
     "user_tz": -330
    },
    "id": "d1bb7ce6",
    "outputId": "5248b1e2-f133-41e1-9c4c-9cfee3d0e9e5"
   },
   "outputs": [
    {
     "ename": "NameError",
     "evalue": "ignored",
     "output_type": "error",
     "traceback": [
      "\u001b[0;31m---------------------------------------------------------------------------\u001b[0m",
      "\u001b[0;31mNameError\u001b[0m                                 Traceback (most recent call last)",
      "\u001b[0;32m<ipython-input-7-a6e4f9505eef>\u001b[0m in \u001b[0;36m<cell line: 1>\u001b[0;34m()\u001b[0m\n\u001b[0;32m----> 1\u001b[0;31m \u001b[0mdata\u001b[0m\u001b[0;34m[\u001b[0m\u001b[0;34m'Dep_Time_hour'\u001b[0m\u001b[0;34m]\u001b[0m\u001b[0;34m.\u001b[0m\u001b[0mapply\u001b[0m\u001b[0;34m(\u001b[0m\u001b[0mflight_dep_time\u001b[0m\u001b[0;34m)\u001b[0m\u001b[0;34m.\u001b[0m\u001b[0mvalue_counts\u001b[0m\u001b[0;34m(\u001b[0m\u001b[0;34m)\u001b[0m\u001b[0;34m.\u001b[0m\u001b[0miplot\u001b[0m\u001b[0;34m(\u001b[0m\u001b[0mkind\u001b[0m\u001b[0;34m=\u001b[0m\u001b[0;34m\"bar\"\u001b[0m\u001b[0;34m)\u001b[0m\u001b[0;34m\u001b[0m\u001b[0;34m\u001b[0m\u001b[0m\n\u001b[0m",
      "\u001b[0;31mNameError\u001b[0m: name 'data' is not defined"
     ]
    }
   ],
   "source": [
    "data['Dep_Time_hour'].apply(flight_dep_time).value_counts().iplot(kind=\"bar\")"
   ]
  },
  {
   "cell_type": "code",
   "execution_count": null,
   "id": "080b850b",
   "metadata": {
    "executionInfo": {
     "elapsed": 6490,
     "status": "aborted",
     "timestamp": 1692735308080,
     "user": {
      "displayName": "Applied AI",
      "userId": "13061182627446198291"
     },
     "user_tz": -330
    },
    "id": "080b850b"
   },
   "outputs": [],
   "source": []
  },
  {
   "cell_type": "code",
   "execution_count": null,
   "id": "17d5ed00",
   "metadata": {
    "executionInfo": {
     "elapsed": 6485,
     "status": "aborted",
     "timestamp": 1692735308081,
     "user": {
      "displayName": "Applied AI",
      "userId": "13061182627446198291"
     },
     "user_tz": -330
    },
    "id": "17d5ed00"
   },
   "outputs": [],
   "source": []
  },
  {
   "cell_type": "code",
   "execution_count": null,
   "id": "950af2fb",
   "metadata": {
    "executionInfo": {
     "elapsed": 6483,
     "status": "aborted",
     "timestamp": 1692735308082,
     "user": {
      "displayName": "Applied AI",
      "userId": "13061182627446198291"
     },
     "user_tz": -330
    },
    "id": "950af2fb"
   },
   "outputs": [],
   "source": []
  },
  {
   "cell_type": "markdown",
   "id": "d1b0f6bc",
   "metadata": {
    "id": "d1b0f6bc"
   },
   "source": [
    "## 6.. Pre-process Duration Feature & extract meaningful features from it.."
   ]
  },
  {
   "cell_type": "markdown",
   "id": "114099e8",
   "metadata": {
    "id": "114099e8"
   },
   "source": [
    "### Lets Apply pre-processing on duration column,\n",
    "    -->> Once we pre-processed our Duration feature , lets extract Duration hours and minute from duration..\n",
    "    \n",
    "    -->> As my ML model is not able to understand this duration as it contains string values ,\n",
    "    thats why we have to tell our ML Model that this is hour & this is minute for each of the row .."
   ]
  },
  {
   "cell_type": "code",
   "execution_count": null,
   "id": "5a4318d6",
   "metadata": {
    "executionInfo": {
     "elapsed": 6439,
     "status": "aborted",
     "timestamp": 1692735308082,
     "user": {
      "displayName": "Applied AI",
      "userId": "13061182627446198291"
     },
     "user_tz": -330
    },
    "id": "5a4318d6"
   },
   "outputs": [],
   "source": [
    "data.head(3)"
   ]
  },
  {
   "cell_type": "code",
   "execution_count": null,
   "id": "84cd7858",
   "metadata": {
    "executionInfo": {
     "elapsed": 6435,
     "status": "aborted",
     "timestamp": 1692735308083,
     "user": {
      "displayName": "Applied AI",
      "userId": "13061182627446198291"
     },
     "user_tz": -330
    },
    "id": "84cd7858"
   },
   "outputs": [],
   "source": []
  },
  {
   "cell_type": "code",
   "execution_count": null,
   "id": "60b78a00",
   "metadata": {
    "executionInfo": {
     "elapsed": 6428,
     "status": "aborted",
     "timestamp": 1692735308084,
     "user": {
      "displayName": "Applied AI",
      "userId": "13061182627446198291"
     },
     "user_tz": -330
    },
    "id": "60b78a00"
   },
   "outputs": [],
   "source": [
    "def preprocess_duration(x):\n",
    "    if 'h' not in x:\n",
    "        x = '0h' + ' ' + x\n",
    "    elif 'm' not in x:\n",
    "        x = x + ' ' +'0m'\n",
    "\n",
    "    return x"
   ]
  },
  {
   "cell_type": "code",
   "execution_count": null,
   "id": "b4ed1e08",
   "metadata": {
    "executionInfo": {
     "elapsed": 6422,
     "status": "aborted",
     "timestamp": 1692735308084,
     "user": {
      "displayName": "Applied AI",
      "userId": "13061182627446198291"
     },
     "user_tz": -330
    },
    "id": "b4ed1e08"
   },
   "outputs": [],
   "source": [
    "data['Duration'] = data['Duration'].apply(preprocess_duration)"
   ]
  },
  {
   "cell_type": "code",
   "execution_count": null,
   "id": "ff4515fe",
   "metadata": {
    "executionInfo": {
     "elapsed": 6397,
     "status": "aborted",
     "timestamp": 1692735308085,
     "user": {
      "displayName": "Applied AI",
      "userId": "13061182627446198291"
     },
     "user_tz": -330
    },
    "id": "ff4515fe"
   },
   "outputs": [],
   "source": [
    "data['Duration']"
   ]
  },
  {
   "cell_type": "code",
   "execution_count": null,
   "id": "b5833e1a",
   "metadata": {
    "executionInfo": {
     "elapsed": 6394,
     "status": "aborted",
     "timestamp": 1692735308086,
     "user": {
      "displayName": "Applied AI",
      "userId": "13061182627446198291"
     },
     "user_tz": -330
    },
    "id": "b5833e1a"
   },
   "outputs": [],
   "source": [
    "'''\n",
    "    Now after pre-processing duration feature , still my ml_model is not able to understand duration\n",
    "    bcz it is string data so any how we have to convert it into numerical(integer of float) values\n",
    "\n",
    "'''"
   ]
  },
  {
   "cell_type": "code",
   "execution_count": null,
   "id": "e0043338",
   "metadata": {
    "executionInfo": {
     "elapsed": 6389,
     "status": "aborted",
     "timestamp": 1692735308087,
     "user": {
      "displayName": "Applied AI",
      "userId": "13061182627446198291"
     },
     "user_tz": -330
    },
    "id": "e0043338"
   },
   "outputs": [],
   "source": []
  },
  {
   "cell_type": "code",
   "execution_count": null,
   "id": "9acd5f16",
   "metadata": {
    "executionInfo": {
     "elapsed": 6365,
     "status": "aborted",
     "timestamp": 1692735308087,
     "user": {
      "displayName": "Applied AI",
      "userId": "13061182627446198291"
     },
     "user_tz": -330
    },
    "id": "9acd5f16"
   },
   "outputs": [],
   "source": [
    "data['Duration'][0]"
   ]
  },
  {
   "cell_type": "code",
   "execution_count": null,
   "id": "5893242d",
   "metadata": {
    "executionInfo": {
     "elapsed": 6348,
     "status": "aborted",
     "timestamp": 1692735308088,
     "user": {
      "displayName": "Applied AI",
      "userId": "13061182627446198291"
     },
     "user_tz": -330
    },
    "id": "5893242d"
   },
   "outputs": [],
   "source": [
    "'2h 50m'.split(' ')"
   ]
  },
  {
   "cell_type": "code",
   "execution_count": null,
   "id": "e50106c4",
   "metadata": {
    "executionInfo": {
     "elapsed": 6326,
     "status": "aborted",
     "timestamp": 1692735308089,
     "user": {
      "displayName": "Applied AI",
      "userId": "13061182627446198291"
     },
     "user_tz": -330
    },
    "id": "e50106c4"
   },
   "outputs": [],
   "source": [
    "'2h 50m'.split(' ')[0]"
   ]
  },
  {
   "cell_type": "code",
   "execution_count": null,
   "id": "0298a5cd",
   "metadata": {
    "executionInfo": {
     "elapsed": 6304,
     "status": "aborted",
     "timestamp": 1692735308090,
     "user": {
      "displayName": "Applied AI",
      "userId": "13061182627446198291"
     },
     "user_tz": -330
    },
    "id": "0298a5cd"
   },
   "outputs": [],
   "source": [
    "'2h 50m'.split(' ')[0][0:-1]"
   ]
  },
  {
   "cell_type": "code",
   "execution_count": null,
   "id": "6397efdd",
   "metadata": {
    "executionInfo": {
     "elapsed": 6286,
     "status": "aborted",
     "timestamp": 1692735308094,
     "user": {
      "displayName": "Applied AI",
      "userId": "13061182627446198291"
     },
     "user_tz": -330
    },
    "id": "6397efdd"
   },
   "outputs": [],
   "source": [
    "type('2h 50m'.split(' ')[0][0:-1])"
   ]
  },
  {
   "cell_type": "code",
   "execution_count": null,
   "id": "2a538f4f",
   "metadata": {
    "executionInfo": {
     "elapsed": 6269,
     "status": "aborted",
     "timestamp": 1692735308095,
     "user": {
      "displayName": "Applied AI",
      "userId": "13061182627446198291"
     },
     "user_tz": -330
    },
    "id": "2a538f4f"
   },
   "outputs": [],
   "source": [
    "int('2h 50m'.split(' ')[0][0:-1])"
   ]
  },
  {
   "cell_type": "code",
   "execution_count": null,
   "id": "e97d0525",
   "metadata": {
    "executionInfo": {
     "elapsed": 6249,
     "status": "aborted",
     "timestamp": 1692735308096,
     "user": {
      "displayName": "Applied AI",
      "userId": "13061182627446198291"
     },
     "user_tz": -330
    },
    "id": "e97d0525"
   },
   "outputs": [],
   "source": [
    "int('2h 50m'.split(' ')[1][0:-1])"
   ]
  },
  {
   "cell_type": "code",
   "execution_count": null,
   "id": "4602a9e3",
   "metadata": {
    "executionInfo": {
     "elapsed": 6209,
     "status": "aborted",
     "timestamp": 1692735308097,
     "user": {
      "displayName": "Applied AI",
      "userId": "13061182627446198291"
     },
     "user_tz": -330
    },
    "id": "4602a9e3"
   },
   "outputs": [],
   "source": [
    "data['Duration_hours'] = data['Duration'].apply(lambda x : int(x.split(' ')[0][0:-1]))"
   ]
  },
  {
   "cell_type": "code",
   "execution_count": null,
   "id": "be492cd6",
   "metadata": {
    "executionInfo": {
     "elapsed": 6202,
     "status": "aborted",
     "timestamp": 1692735308097,
     "user": {
      "displayName": "Applied AI",
      "userId": "13061182627446198291"
     },
     "user_tz": -330
    },
    "id": "be492cd6"
   },
   "outputs": [],
   "source": [
    "data['Duration_mins'] = data['Duration'].apply(lambda x : int(x.split(' ')[1][0:-1]))"
   ]
  },
  {
   "cell_type": "code",
   "execution_count": null,
   "id": "928ca4a1",
   "metadata": {
    "executionInfo": {
     "elapsed": 6134,
     "status": "aborted",
     "timestamp": 1692735308098,
     "user": {
      "displayName": "Applied AI",
      "userId": "13061182627446198291"
     },
     "user_tz": -330
    },
    "id": "928ca4a1"
   },
   "outputs": [],
   "source": [
    "data.head(2)"
   ]
  },
  {
   "cell_type": "code",
   "execution_count": null,
   "id": "e59f68ea",
   "metadata": {
    "executionInfo": {
     "elapsed": 6120,
     "status": "aborted",
     "timestamp": 1692735308099,
     "user": {
      "displayName": "Applied AI",
      "userId": "13061182627446198291"
     },
     "user_tz": -330
    },
    "id": "e59f68ea"
   },
   "outputs": [],
   "source": []
  },
  {
   "cell_type": "code",
   "execution_count": null,
   "id": "a3386cdd",
   "metadata": {
    "executionInfo": {
     "elapsed": 6116,
     "status": "aborted",
     "timestamp": 1692735308100,
     "user": {
      "displayName": "Applied AI",
      "userId": "13061182627446198291"
     },
     "user_tz": -330
    },
    "id": "a3386cdd"
   },
   "outputs": [],
   "source": []
  },
  {
   "cell_type": "code",
   "execution_count": null,
   "id": "906d9ea8",
   "metadata": {
    "executionInfo": {
     "elapsed": 6113,
     "status": "aborted",
     "timestamp": 1692735308100,
     "user": {
      "displayName": "Applied AI",
      "userId": "13061182627446198291"
     },
     "user_tz": -330
    },
    "id": "906d9ea8"
   },
   "outputs": [],
   "source": []
  },
  {
   "cell_type": "code",
   "execution_count": null,
   "id": "1341fd63",
   "metadata": {
    "executionInfo": {
     "elapsed": 6106,
     "status": "aborted",
     "timestamp": 1692735308101,
     "user": {
      "displayName": "Applied AI",
      "userId": "13061182627446198291"
     },
     "user_tz": -330
    },
    "id": "1341fd63"
   },
   "outputs": [],
   "source": []
  },
  {
   "cell_type": "markdown",
   "id": "7c6059fa",
   "metadata": {
    "id": "7c6059fa"
   },
   "source": [
    "## 7.. Lets Analyse whether Duration impacts Price or not ?"
   ]
  },
  {
   "cell_type": "code",
   "execution_count": null,
   "id": "34c70436",
   "metadata": {
    "executionInfo": {
     "elapsed": 6090,
     "status": "aborted",
     "timestamp": 1692735308102,
     "user": {
      "displayName": "Applied AI",
      "userId": "13061182627446198291"
     },
     "user_tz": -330
    },
    "id": "34c70436"
   },
   "outputs": [],
   "source": [
    "data['Duration'] ## convert duration into total minutes duration .."
   ]
  },
  {
   "cell_type": "code",
   "execution_count": null,
   "id": "c99fcb14",
   "metadata": {
    "executionInfo": {
     "elapsed": 6074,
     "status": "aborted",
     "timestamp": 1692735308102,
     "user": {
      "displayName": "Applied AI",
      "userId": "13061182627446198291"
     },
     "user_tz": -330
    },
    "id": "c99fcb14"
   },
   "outputs": [],
   "source": [
    "2*60"
   ]
  },
  {
   "cell_type": "code",
   "execution_count": null,
   "id": "b2ad9ec3",
   "metadata": {
    "executionInfo": {
     "elapsed": 6058,
     "status": "aborted",
     "timestamp": 1692735308104,
     "user": {
      "displayName": "Applied AI",
      "userId": "13061182627446198291"
     },
     "user_tz": -330
    },
    "id": "b2ad9ec3"
   },
   "outputs": [],
   "source": [
    "'2*60'"
   ]
  },
  {
   "cell_type": "code",
   "execution_count": null,
   "id": "a360a156",
   "metadata": {
    "executionInfo": {
     "elapsed": 6040,
     "status": "aborted",
     "timestamp": 1692735308105,
     "user": {
      "displayName": "Applied AI",
      "userId": "13061182627446198291"
     },
     "user_tz": -330
    },
    "id": "a360a156"
   },
   "outputs": [],
   "source": [
    "eval('2*60')"
   ]
  },
  {
   "cell_type": "code",
   "execution_count": null,
   "id": "735257b9",
   "metadata": {
    "executionInfo": {
     "elapsed": 6035,
     "status": "aborted",
     "timestamp": 1692735308105,
     "user": {
      "displayName": "Applied AI",
      "userId": "13061182627446198291"
     },
     "user_tz": -330
    },
    "id": "735257b9"
   },
   "outputs": [],
   "source": []
  },
  {
   "cell_type": "code",
   "execution_count": null,
   "id": "0c8ac7a4",
   "metadata": {
    "executionInfo": {
     "elapsed": 6031,
     "status": "aborted",
     "timestamp": 1692735308106,
     "user": {
      "displayName": "Applied AI",
      "userId": "13061182627446198291"
     },
     "user_tz": -330
    },
    "id": "0c8ac7a4"
   },
   "outputs": [],
   "source": [
    "data['Duration_total_mins'] = data['Duration'].str.replace('h' ,\"*60\").str.replace(' ' , '+').str.replace('m' , \"*1\").apply(eval)"
   ]
  },
  {
   "cell_type": "code",
   "execution_count": null,
   "id": "511acaa4",
   "metadata": {
    "executionInfo": {
     "elapsed": 6011,
     "status": "aborted",
     "timestamp": 1692735308107,
     "user": {
      "displayName": "Applied AI",
      "userId": "13061182627446198291"
     },
     "user_tz": -330
    },
    "id": "511acaa4"
   },
   "outputs": [],
   "source": [
    "data['Duration_total_mins']"
   ]
  },
  {
   "cell_type": "code",
   "execution_count": null,
   "id": "1eb47f88",
   "metadata": {
    "executionInfo": {
     "elapsed": 6008,
     "status": "aborted",
     "timestamp": 1692735308108,
     "user": {
      "displayName": "Applied AI",
      "userId": "13061182627446198291"
     },
     "user_tz": -330
    },
    "id": "1eb47f88"
   },
   "outputs": [],
   "source": []
  },
  {
   "cell_type": "code",
   "execution_count": null,
   "id": "1a006437",
   "metadata": {
    "executionInfo": {
     "elapsed": 5990,
     "status": "aborted",
     "timestamp": 1692735308109,
     "user": {
      "displayName": "Applied AI",
      "userId": "13061182627446198291"
     },
     "user_tz": -330
    },
    "id": "1a006437"
   },
   "outputs": [],
   "source": [
    "data.columns"
   ]
  },
  {
   "cell_type": "code",
   "execution_count": null,
   "id": "65236aa7",
   "metadata": {
    "executionInfo": {
     "elapsed": 5951,
     "status": "aborted",
     "timestamp": 1692735308110,
     "user": {
      "displayName": "Applied AI",
      "userId": "13061182627446198291"
     },
     "user_tz": -330
    },
    "id": "65236aa7"
   },
   "outputs": [],
   "source": [
    "sns.scatterplot(x=\"Duration_total_mins\" , y=\"Price\" , data=data)"
   ]
  },
  {
   "cell_type": "code",
   "execution_count": null,
   "id": "5b20c13f",
   "metadata": {
    "executionInfo": {
     "elapsed": 5916,
     "status": "aborted",
     "timestamp": 1692735308111,
     "user": {
      "displayName": "Applied AI",
      "userId": "13061182627446198291"
     },
     "user_tz": -330
    },
    "id": "5b20c13f"
   },
   "outputs": [],
   "source": [
    "sns.lmplot(x=\"Duration_total_mins\" , y=\"Price\" , data=data)\n",
    "\n",
    "### pretty clear that As the duration of minutes increases Flight price also increases."
   ]
  },
  {
   "cell_type": "code",
   "execution_count": null,
   "id": "ddaf0509",
   "metadata": {
    "executionInfo": {
     "elapsed": 5913,
     "status": "aborted",
     "timestamp": 1692735308112,
     "user": {
      "displayName": "Applied AI",
      "userId": "13061182627446198291"
     },
     "user_tz": -330
    },
    "id": "ddaf0509"
   },
   "outputs": [],
   "source": []
  },
  {
   "cell_type": "code",
   "execution_count": null,
   "id": "2a995b34",
   "metadata": {
    "executionInfo": {
     "elapsed": 5909,
     "status": "aborted",
     "timestamp": 1692735308112,
     "user": {
      "displayName": "Applied AI",
      "userId": "13061182627446198291"
     },
     "user_tz": -330
    },
    "id": "2a995b34"
   },
   "outputs": [],
   "source": [
    "### lets understand whether total stops affect price or not !"
   ]
  },
  {
   "cell_type": "code",
   "execution_count": null,
   "id": "bc42194a",
   "metadata": {
    "executionInfo": {
     "elapsed": 5879,
     "status": "aborted",
     "timestamp": 1692735308113,
     "user": {
      "displayName": "Applied AI",
      "userId": "13061182627446198291"
     },
     "user_tz": -330
    },
    "id": "bc42194a"
   },
   "outputs": [],
   "source": [
    "sns.scatterplot(x=\"Duration_total_mins\" , y=\"Price\" , hue=\"Total_Stops\", data=data)"
   ]
  },
  {
   "cell_type": "code",
   "execution_count": null,
   "id": "c1f91013",
   "metadata": {
    "executionInfo": {
     "elapsed": 5864,
     "status": "aborted",
     "timestamp": 1692735308114,
     "user": {
      "displayName": "Applied AI",
      "userId": "13061182627446198291"
     },
     "user_tz": -330
    },
    "id": "c1f91013"
   },
   "outputs": [],
   "source": [
    "'''\n",
    "Non stops flights take less duration while their fare is also low, then as the stop increases,\n",
    "duration also increases and price also increases(in most of the cases)\n",
    "\n",
    "'''"
   ]
  },
  {
   "cell_type": "code",
   "execution_count": null,
   "id": "c0740b04",
   "metadata": {
    "executionInfo": {
     "elapsed": 5860,
     "status": "aborted",
     "timestamp": 1692735308114,
     "user": {
      "displayName": "Applied AI",
      "userId": "13061182627446198291"
     },
     "user_tz": -330
    },
    "id": "c0740b04"
   },
   "outputs": [],
   "source": []
  },
  {
   "cell_type": "code",
   "execution_count": null,
   "id": "6f9fb8ed",
   "metadata": {
    "executionInfo": {
     "elapsed": 5858,
     "status": "aborted",
     "timestamp": 1692735308115,
     "user": {
      "displayName": "Applied AI",
      "userId": "13061182627446198291"
     },
     "user_tz": -330
    },
    "id": "6f9fb8ed"
   },
   "outputs": [],
   "source": []
  },
  {
   "cell_type": "code",
   "execution_count": null,
   "id": "7319b4e0",
   "metadata": {
    "executionInfo": {
     "elapsed": 5855,
     "status": "aborted",
     "timestamp": 1692735308116,
     "user": {
      "displayName": "Applied AI",
      "userId": "13061182627446198291"
     },
     "user_tz": -330
    },
    "id": "7319b4e0"
   },
   "outputs": [],
   "source": []
  },
  {
   "cell_type": "code",
   "execution_count": null,
   "id": "68578f3e",
   "metadata": {
    "executionInfo": {
     "elapsed": 5852,
     "status": "aborted",
     "timestamp": 1692735308117,
     "user": {
      "displayName": "Applied AI",
      "userId": "13061182627446198291"
     },
     "user_tz": -330
    },
    "id": "68578f3e"
   },
   "outputs": [],
   "source": []
  },
  {
   "cell_type": "markdown",
   "id": "7f273c44",
   "metadata": {
    "id": "7f273c44"
   },
   "source": [
    "## 8.. on which route Jet Airways is extremely used?"
   ]
  },
  {
   "cell_type": "code",
   "execution_count": null,
   "id": "96111c91",
   "metadata": {
    "executionInfo": {
     "elapsed": 5837,
     "status": "aborted",
     "timestamp": 1692735308117,
     "user": {
      "displayName": "Applied AI",
      "userId": "13061182627446198291"
     },
     "user_tz": -330
    },
    "id": "96111c91"
   },
   "outputs": [],
   "source": [
    "data['Airline']=='Jet Airways'"
   ]
  },
  {
   "cell_type": "code",
   "execution_count": null,
   "id": "0e3a258b",
   "metadata": {
    "executionInfo": {
     "elapsed": 5822,
     "status": "aborted",
     "timestamp": 1692735308118,
     "user": {
      "displayName": "Applied AI",
      "userId": "13061182627446198291"
     },
     "user_tz": -330
    },
    "id": "0e3a258b"
   },
   "outputs": [],
   "source": [
    "data[data['Airline']=='Jet Airways'].groupby('Route').size().sort_values(ascending=False)"
   ]
  },
  {
   "cell_type": "code",
   "execution_count": null,
   "id": "7d692aa1",
   "metadata": {
    "executionInfo": {
     "elapsed": 5819,
     "status": "aborted",
     "timestamp": 1692735308119,
     "user": {
      "displayName": "Applied AI",
      "userId": "13061182627446198291"
     },
     "user_tz": -330
    },
    "id": "7d692aa1"
   },
   "outputs": [],
   "source": []
  },
  {
   "cell_type": "code",
   "execution_count": null,
   "id": "6e9f96c8",
   "metadata": {
    "executionInfo": {
     "elapsed": 5817,
     "status": "aborted",
     "timestamp": 1692735308120,
     "user": {
      "displayName": "Applied AI",
      "userId": "13061182627446198291"
     },
     "user_tz": -330
    },
    "id": "6e9f96c8"
   },
   "outputs": [],
   "source": []
  },
  {
   "cell_type": "code",
   "execution_count": null,
   "id": "23f5981d",
   "metadata": {
    "executionInfo": {
     "elapsed": 5815,
     "status": "aborted",
     "timestamp": 1692735308121,
     "user": {
      "displayName": "Applied AI",
      "userId": "13061182627446198291"
     },
     "user_tz": -330
    },
    "id": "23f5981d"
   },
   "outputs": [],
   "source": []
  },
  {
   "cell_type": "markdown",
   "id": "53d964af",
   "metadata": {
    "id": "53d964af"
   },
   "source": [
    "### b.. Performing Airline vs Price Analysis..\n",
    "        ie find price distribution & 5-point summary of each Airline.."
   ]
  },
  {
   "cell_type": "code",
   "execution_count": null,
   "id": "cab1edf5",
   "metadata": {
    "executionInfo": {
     "elapsed": 5799,
     "status": "aborted",
     "timestamp": 1692735308122,
     "user": {
      "displayName": "Applied AI",
      "userId": "13061182627446198291"
     },
     "user_tz": -330
    },
    "id": "cab1edf5"
   },
   "outputs": [],
   "source": [
    "data.columns"
   ]
  },
  {
   "cell_type": "code",
   "execution_count": null,
   "id": "07e0bba5",
   "metadata": {
    "executionInfo": {
     "elapsed": 5766,
     "status": "aborted",
     "timestamp": 1692735308122,
     "user": {
      "displayName": "Applied AI",
      "userId": "13061182627446198291"
     },
     "user_tz": -330
    },
    "id": "07e0bba5"
   },
   "outputs": [],
   "source": [
    "sns.boxplot(y='Price' , x='Airline' , data=data.sort_values('Price' , ascending=False))\n",
    "plt.xticks(rotation=\"vertical\")\n",
    "plt.show()"
   ]
  },
  {
   "cell_type": "code",
   "execution_count": null,
   "id": "6db408c0",
   "metadata": {
    "executionInfo": {
     "elapsed": 5763,
     "status": "aborted",
     "timestamp": 1692735308123,
     "user": {
      "displayName": "Applied AI",
      "userId": "13061182627446198291"
     },
     "user_tz": -330
    },
    "id": "6db408c0"
   },
   "outputs": [],
   "source": [
    "'''\n",
    "\n",
    "Conclusion--> From graph we can see that Jet Airways Business have the highest Price.,\n",
    "              Apart from the first Airline almost all are having similar median\n",
    "\n",
    "'''"
   ]
  },
  {
   "cell_type": "code",
   "execution_count": null,
   "id": "d86fa264",
   "metadata": {
    "executionInfo": {
     "elapsed": 5761,
     "status": "aborted",
     "timestamp": 1692735308124,
     "user": {
      "displayName": "Applied AI",
      "userId": "13061182627446198291"
     },
     "user_tz": -330
    },
    "id": "d86fa264"
   },
   "outputs": [],
   "source": []
  },
  {
   "cell_type": "code",
   "execution_count": null,
   "id": "7216a7f6",
   "metadata": {
    "executionInfo": {
     "elapsed": 5756,
     "status": "aborted",
     "timestamp": 1692735308125,
     "user": {
      "displayName": "Applied AI",
      "userId": "13061182627446198291"
     },
     "user_tz": -330
    },
    "id": "7216a7f6"
   },
   "outputs": [],
   "source": []
  },
  {
   "cell_type": "code",
   "execution_count": null,
   "id": "94c1225f",
   "metadata": {
    "executionInfo": {
     "elapsed": 5754,
     "status": "aborted",
     "timestamp": 1692735308127,
     "user": {
      "displayName": "Applied AI",
      "userId": "13061182627446198291"
     },
     "user_tz": -330
    },
    "id": "94c1225f"
   },
   "outputs": [],
   "source": []
  },
  {
   "cell_type": "markdown",
   "id": "7ce95d6b",
   "metadata": {
    "id": "7ce95d6b"
   },
   "source": [
    "## 9.. Applying one-hot Encoding on data.."
   ]
  },
  {
   "cell_type": "code",
   "execution_count": null,
   "id": "87c4a387",
   "metadata": {
    "executionInfo": {
     "elapsed": 5719,
     "status": "aborted",
     "timestamp": 1692735308128,
     "user": {
      "displayName": "Applied AI",
      "userId": "13061182627446198291"
     },
     "user_tz": -330
    },
    "id": "87c4a387"
   },
   "outputs": [],
   "source": [
    "data.head(2)"
   ]
  },
  {
   "cell_type": "code",
   "execution_count": null,
   "id": "348fe71f",
   "metadata": {
    "executionInfo": {
     "elapsed": 5705,
     "status": "aborted",
     "timestamp": 1692735308128,
     "user": {
      "displayName": "Applied AI",
      "userId": "13061182627446198291"
     },
     "user_tz": -330
    },
    "id": "348fe71f"
   },
   "outputs": [],
   "source": []
  },
  {
   "cell_type": "code",
   "execution_count": null,
   "id": "8f75640c",
   "metadata": {
    "executionInfo": {
     "elapsed": 5702,
     "status": "aborted",
     "timestamp": 1692735308129,
     "user": {
      "displayName": "Applied AI",
      "userId": "13061182627446198291"
     },
     "user_tz": -330
    },
    "id": "8f75640c"
   },
   "outputs": [],
   "source": [
    "'''\n",
    "\n",
    "Categorical data refers to a data type that can be stored into groups/categories/labels\n",
    "Examples of categorical variables are  age group, educational level,blood type etc..\n",
    "\n",
    "\n",
    "Numerical data refers to the data that is in the form of numbers,\n",
    "Examples of numerical data are height, weight, age etc..\n",
    "\n",
    "Numerical data has two categories: discrete data and continuous data\n",
    "\n",
    "\n",
    "Discrete data : It basically takes countable numbers like 1, 2, 3, 4, 5, and so on.\n",
    "                In case of infinity, these numbers will keep going on...\n",
    "                age of a fly : 8 , 9 day etc..\n",
    "\n",
    "Continuous data : which is continuous in nature\n",
    "                  amount of sugar , 11.2 kg  , temp of a city  , your bank balance !\n",
    "\n",
    "For example, salary levels and performance classifications are discrete variables,\n",
    "whereas height and weight are continuous variables.\n",
    "\n",
    "'''"
   ]
  },
  {
   "cell_type": "code",
   "execution_count": null,
   "id": "db15937c",
   "metadata": {
    "executionInfo": {
     "elapsed": 5700,
     "status": "aborted",
     "timestamp": 1692735308130,
     "user": {
      "displayName": "Applied AI",
      "userId": "13061182627446198291"
     },
     "user_tz": -330
    },
    "id": "db15937c"
   },
   "outputs": [],
   "source": [
    "cat_col = [col for col in data.columns if data[col].dtype==\"object\"]"
   ]
  },
  {
   "cell_type": "code",
   "execution_count": null,
   "id": "a695564e",
   "metadata": {
    "executionInfo": {
     "elapsed": 5698,
     "status": "aborted",
     "timestamp": 1692735308131,
     "user": {
      "displayName": "Applied AI",
      "userId": "13061182627446198291"
     },
     "user_tz": -330
    },
    "id": "a695564e"
   },
   "outputs": [],
   "source": [
    "num_col = [col for col in data.columns if data[col].dtype!=\"object\"]"
   ]
  },
  {
   "cell_type": "markdown",
   "id": "92f4e982",
   "metadata": {
    "id": "92f4e982"
   },
   "source": [
    "#### Handling Categorical Data\n",
    "    We are using 2 basic Encoding Techniques to convert Categorical data into some numerical format\n",
    "    Nominal data --> data are not in any order --> OneHotEncoder is used in this case\n",
    "    Ordinal data --> data are in order -->       LabelEncoder is used in this case\n",
    "    \n",
    "    But in real-world , it is not necessary that u have to always One-hot or label ,\n",
    "    hence we will discuss more interesting approaches in upcoming sessions to do this !"
   ]
  },
  {
   "cell_type": "code",
   "execution_count": null,
   "id": "98d3c411",
   "metadata": {
    "executionInfo": {
     "elapsed": 5684,
     "status": "aborted",
     "timestamp": 1692735308131,
     "user": {
      "displayName": "Applied AI",
      "userId": "13061182627446198291"
     },
     "user_tz": -330
    },
    "id": "98d3c411"
   },
   "outputs": [],
   "source": [
    "cat_col"
   ]
  },
  {
   "cell_type": "code",
   "execution_count": null,
   "id": "a45ea4c1",
   "metadata": {
    "executionInfo": {
     "elapsed": 5682,
     "status": "aborted",
     "timestamp": 1692735308132,
     "user": {
      "displayName": "Applied AI",
      "userId": "13061182627446198291"
     },
     "user_tz": -330
    },
    "id": "a45ea4c1"
   },
   "outputs": [],
   "source": []
  },
  {
   "cell_type": "code",
   "execution_count": 8,
   "id": "51a8391c",
   "metadata": {
    "executionInfo": {
     "elapsed": 311,
     "status": "ok",
     "timestamp": 1692735312203,
     "user": {
      "displayName": "Applied AI",
      "userId": "13061182627446198291"
     },
     "user_tz": -330
    },
    "id": "51a8391c"
   },
   "outputs": [],
   "source": [
    "### Applying One-hot from scratch :"
   ]
  },
  {
   "cell_type": "code",
   "execution_count": 9,
   "id": "791db106",
   "metadata": {
    "colab": {
     "base_uri": "https://localhost:8080/",
     "height": 175
    },
    "executionInfo": {
     "elapsed": 334,
     "status": "error",
     "timestamp": 1692735312228,
     "user": {
      "displayName": "Applied AI",
      "userId": "13061182627446198291"
     },
     "user_tz": -330
    },
    "id": "791db106",
    "outputId": "3d94cd5e-0a9b-45da-e158-d6ca24b25024"
   },
   "outputs": [
    {
     "ename": "NameError",
     "evalue": "ignored",
     "output_type": "error",
     "traceback": [
      "\u001b[0;31m---------------------------------------------------------------------------\u001b[0m",
      "\u001b[0;31mNameError\u001b[0m                                 Traceback (most recent call last)",
      "\u001b[0;32m<ipython-input-9-69533fe5cbcc>\u001b[0m in \u001b[0;36m<cell line: 1>\u001b[0;34m()\u001b[0m\n\u001b[0;32m----> 1\u001b[0;31m \u001b[0mdata\u001b[0m\u001b[0;34m[\u001b[0m\u001b[0;34m'Source'\u001b[0m\u001b[0;34m]\u001b[0m\u001b[0;34m.\u001b[0m\u001b[0munique\u001b[0m\u001b[0;34m(\u001b[0m\u001b[0;34m)\u001b[0m\u001b[0;34m\u001b[0m\u001b[0;34m\u001b[0m\u001b[0m\n\u001b[0m",
      "\u001b[0;31mNameError\u001b[0m: name 'data' is not defined"
     ]
    }
   ],
   "source": [
    "data['Source'].unique()"
   ]
  },
  {
   "cell_type": "code",
   "execution_count": null,
   "id": "c116082b",
   "metadata": {
    "executionInfo": {
     "elapsed": 5646,
     "status": "aborted",
     "timestamp": 1692735308133,
     "user": {
      "displayName": "Applied AI",
      "userId": "13061182627446198291"
     },
     "user_tz": -330
    },
    "id": "c116082b"
   },
   "outputs": [],
   "source": [
    "data['Source'].apply(lambda x : 1 if x=='Banglore' else 0)"
   ]
  },
  {
   "cell_type": "code",
   "execution_count": null,
   "id": "6570ce21",
   "metadata": {
    "executionInfo": {
     "elapsed": 5644,
     "status": "aborted",
     "timestamp": 1692735308134,
     "user": {
      "displayName": "Applied AI",
      "userId": "13061182627446198291"
     },
     "user_tz": -330
    },
    "id": "6570ce21"
   },
   "outputs": [],
   "source": []
  },
  {
   "cell_type": "code",
   "execution_count": null,
   "id": "7997f51d",
   "metadata": {
    "executionInfo": {
     "elapsed": 5641,
     "status": "aborted",
     "timestamp": 1692735308135,
     "user": {
      "displayName": "Applied AI",
      "userId": "13061182627446198291"
     },
     "user_tz": -330
    },
    "id": "7997f51d"
   },
   "outputs": [],
   "source": [
    "for sub_category in data['Source'].unique():\n",
    "    data['Source_'+sub_category] = data['Source'].apply(lambda x : 1 if x==sub_category else 0)"
   ]
  },
  {
   "cell_type": "code",
   "execution_count": null,
   "id": "2e16bf36",
   "metadata": {
    "executionInfo": {
     "elapsed": 5603,
     "status": "aborted",
     "timestamp": 1692735308136,
     "user": {
      "displayName": "Applied AI",
      "userId": "13061182627446198291"
     },
     "user_tz": -330
    },
    "id": "2e16bf36"
   },
   "outputs": [],
   "source": [
    "data.head(3)"
   ]
  },
  {
   "cell_type": "code",
   "execution_count": null,
   "id": "e8beac1e",
   "metadata": {
    "executionInfo": {
     "elapsed": 5599,
     "status": "aborted",
     "timestamp": 1692735308136,
     "user": {
      "displayName": "Applied AI",
      "userId": "13061182627446198291"
     },
     "user_tz": -330
    },
    "id": "e8beac1e"
   },
   "outputs": [],
   "source": []
  },
  {
   "cell_type": "code",
   "execution_count": null,
   "id": "b00c48e0",
   "metadata": {
    "executionInfo": {
     "elapsed": 5597,
     "status": "aborted",
     "timestamp": 1692735308137,
     "user": {
      "displayName": "Applied AI",
      "userId": "13061182627446198291"
     },
     "user_tz": -330
    },
    "id": "b00c48e0"
   },
   "outputs": [],
   "source": []
  },
  {
   "cell_type": "code",
   "execution_count": null,
   "id": "336381a1",
   "metadata": {
    "executionInfo": {
     "elapsed": 5594,
     "status": "aborted",
     "timestamp": 1692735308138,
     "user": {
      "displayName": "Applied AI",
      "userId": "13061182627446198291"
     },
     "user_tz": -330
    },
    "id": "336381a1"
   },
   "outputs": [],
   "source": []
  },
  {
   "cell_type": "markdown",
   "id": "2bd62abd",
   "metadata": {
    "id": "2bd62abd"
   },
   "source": [
    "## 10.. Lets Perform target guided encoding on Data\n",
    "    ofcourse we can use One-hot , but if we have more sub-categories , it creates curse of dimensionality\n",
    "    lets use Target Guided Mean Encoding in such case to get rid of curse of dimensionality.."
   ]
  },
  {
   "cell_type": "code",
   "execution_count": null,
   "id": "e2d4a993",
   "metadata": {
    "executionInfo": {
     "elapsed": 5590,
     "status": "aborted",
     "timestamp": 1692735308138,
     "user": {
      "displayName": "Applied AI",
      "userId": "13061182627446198291"
     },
     "user_tz": -330
    },
    "id": "e2d4a993"
   },
   "outputs": [],
   "source": [
    "'''\n",
    "\n",
    "Now on 2 features , Airline & Destination , we can apply on-hot as there is no such order\n",
    "but total_stops is my ordinal data , it makes no sense if we apply on-hot on top of this..\n",
    "similarly if we have any feature which have more categories , it is not good to apply one-hot as it will create\n",
    "curse of dimensionality issue , which leads to usage of more resources of your pc..\n",
    "\n",
    "So we can think for appplying mean Encoding or better techniques like Target Guided Ordinal Encoding !\n",
    "\n",
    "\n",
    "'''"
   ]
  },
  {
   "cell_type": "code",
   "execution_count": null,
   "id": "aef08c1d",
   "metadata": {
    "executionInfo": {
     "elapsed": 5577,
     "status": "aborted",
     "timestamp": 1692735308139,
     "user": {
      "displayName": "Applied AI",
      "userId": "13061182627446198291"
     },
     "user_tz": -330
    },
    "id": "aef08c1d"
   },
   "outputs": [],
   "source": [
    "cat_col"
   ]
  },
  {
   "cell_type": "code",
   "execution_count": null,
   "id": "704351d5",
   "metadata": {
    "executionInfo": {
     "elapsed": 5536,
     "status": "aborted",
     "timestamp": 1692735308140,
     "user": {
      "displayName": "Applied AI",
      "userId": "13061182627446198291"
     },
     "user_tz": -330
    },
    "id": "704351d5"
   },
   "outputs": [],
   "source": [
    "data.head(2)"
   ]
  },
  {
   "cell_type": "code",
   "execution_count": null,
   "id": "98b149ef",
   "metadata": {
    "executionInfo": {
     "elapsed": 5523,
     "status": "aborted",
     "timestamp": 1692735308141,
     "user": {
      "displayName": "Applied AI",
      "userId": "13061182627446198291"
     },
     "user_tz": -330
    },
    "id": "98b149ef"
   },
   "outputs": [],
   "source": [
    "data['Airline'].nunique()"
   ]
  },
  {
   "cell_type": "code",
   "execution_count": null,
   "id": "edf2299a",
   "metadata": {
    "executionInfo": {
     "elapsed": 5521,
     "status": "aborted",
     "timestamp": 1692735308142,
     "user": {
      "displayName": "Applied AI",
      "userId": "13061182627446198291"
     },
     "user_tz": -330
    },
    "id": "edf2299a"
   },
   "outputs": [],
   "source": []
  },
  {
   "cell_type": "code",
   "execution_count": null,
   "id": "bdfedfc2",
   "metadata": {
    "executionInfo": {
     "elapsed": 5518,
     "status": "aborted",
     "timestamp": 1692735308143,
     "user": {
      "displayName": "Applied AI",
      "userId": "13061182627446198291"
     },
     "user_tz": -330
    },
    "id": "bdfedfc2"
   },
   "outputs": [],
   "source": []
  },
  {
   "cell_type": "code",
   "execution_count": null,
   "id": "8ed89063",
   "metadata": {
    "executionInfo": {
     "elapsed": 5516,
     "status": "aborted",
     "timestamp": 1692735308144,
     "user": {
      "displayName": "Applied AI",
      "userId": "13061182627446198291"
     },
     "user_tz": -330
    },
    "id": "8ed89063"
   },
   "outputs": [],
   "source": []
  },
  {
   "cell_type": "code",
   "execution_count": null,
   "id": "5a25f16b",
   "metadata": {
    "executionInfo": {
     "elapsed": 5501,
     "status": "aborted",
     "timestamp": 1692735308145,
     "user": {
      "displayName": "Applied AI",
      "userId": "13061182627446198291"
     },
     "user_tz": -330
    },
    "id": "5a25f16b"
   },
   "outputs": [],
   "source": [
    "data.groupby(['Airline'])['Price'].mean().sort_values()"
   ]
  },
  {
   "cell_type": "code",
   "execution_count": null,
   "id": "930549c9",
   "metadata": {
    "executionInfo": {
     "elapsed": 5499,
     "status": "aborted",
     "timestamp": 1692735308146,
     "user": {
      "displayName": "Applied AI",
      "userId": "13061182627446198291"
     },
     "user_tz": -330
    },
    "id": "930549c9"
   },
   "outputs": [],
   "source": [
    "airlines = data.groupby(['Airline'])['Price'].mean().sort_values().index"
   ]
  },
  {
   "cell_type": "code",
   "execution_count": null,
   "id": "6cb10b7f",
   "metadata": {
    "executionInfo": {
     "elapsed": 7038,
     "status": "aborted",
     "timestamp": 1692735309699,
     "user": {
      "displayName": "Applied AI",
      "userId": "13061182627446198291"
     },
     "user_tz": -330
    },
    "id": "6cb10b7f"
   },
   "outputs": [],
   "source": [
    "airlines"
   ]
  },
  {
   "cell_type": "code",
   "execution_count": null,
   "id": "59d144cd",
   "metadata": {
    "executionInfo": {
     "elapsed": 7038,
     "status": "aborted",
     "timestamp": 1692735309703,
     "user": {
      "displayName": "Applied AI",
      "userId": "13061182627446198291"
     },
     "user_tz": -330
    },
    "id": "59d144cd"
   },
   "outputs": [],
   "source": []
  },
  {
   "cell_type": "code",
   "execution_count": null,
   "id": "8e4afac4",
   "metadata": {
    "executionInfo": {
     "elapsed": 7043,
     "status": "aborted",
     "timestamp": 1692735309711,
     "user": {
      "displayName": "Applied AI",
      "userId": "13061182627446198291"
     },
     "user_tz": -330
    },
    "id": "8e4afac4"
   },
   "outputs": [],
   "source": [
    "dict_airlines = {key:index for index , key in enumerate(airlines , 0)}"
   ]
  },
  {
   "cell_type": "code",
   "execution_count": null,
   "id": "6a84d8bb",
   "metadata": {
    "executionInfo": {
     "elapsed": 7032,
     "status": "aborted",
     "timestamp": 1692735309716,
     "user": {
      "displayName": "Applied AI",
      "userId": "13061182627446198291"
     },
     "user_tz": -330
    },
    "id": "6a84d8bb"
   },
   "outputs": [],
   "source": [
    "dict_airlines"
   ]
  },
  {
   "cell_type": "code",
   "execution_count": null,
   "id": "eb7c77af",
   "metadata": {
    "executionInfo": {
     "elapsed": 7030,
     "status": "aborted",
     "timestamp": 1692735309717,
     "user": {
      "displayName": "Applied AI",
      "userId": "13061182627446198291"
     },
     "user_tz": -330
    },
    "id": "eb7c77af"
   },
   "outputs": [],
   "source": [
    "data['Airline'] = data['Airline'].map(dict_airlines)"
   ]
  },
  {
   "cell_type": "code",
   "execution_count": null,
   "id": "7e57528b",
   "metadata": {
    "executionInfo": {
     "elapsed": 7017,
     "status": "aborted",
     "timestamp": 1692735309719,
     "user": {
      "displayName": "Applied AI",
      "userId": "13061182627446198291"
     },
     "user_tz": -330
    },
    "id": "7e57528b"
   },
   "outputs": [],
   "source": [
    "data['Airline']"
   ]
  },
  {
   "cell_type": "code",
   "execution_count": null,
   "id": "e58ee94a",
   "metadata": {
    "executionInfo": {
     "elapsed": 7014,
     "status": "aborted",
     "timestamp": 1692735309720,
     "user": {
      "displayName": "Applied AI",
      "userId": "13061182627446198291"
     },
     "user_tz": -330
    },
    "id": "e58ee94a"
   },
   "outputs": [],
   "source": []
  },
  {
   "cell_type": "code",
   "execution_count": null,
   "id": "2167d77c",
   "metadata": {
    "executionInfo": {
     "elapsed": 7010,
     "status": "aborted",
     "timestamp": 1692735309721,
     "user": {
      "displayName": "Applied AI",
      "userId": "13061182627446198291"
     },
     "user_tz": -330
    },
    "id": "2167d77c"
   },
   "outputs": [],
   "source": []
  },
  {
   "cell_type": "code",
   "execution_count": null,
   "id": "3d706ced",
   "metadata": {
    "executionInfo": {
     "elapsed": 6969,
     "status": "aborted",
     "timestamp": 1692735309722,
     "user": {
      "displayName": "Applied AI",
      "userId": "13061182627446198291"
     },
     "user_tz": -330
    },
    "id": "3d706ced"
   },
   "outputs": [],
   "source": [
    "data.head(3)"
   ]
  },
  {
   "cell_type": "code",
   "execution_count": null,
   "id": "66eda8d8",
   "metadata": {
    "executionInfo": {
     "elapsed": 6966,
     "status": "aborted",
     "timestamp": 1692735309723,
     "user": {
      "displayName": "Applied AI",
      "userId": "13061182627446198291"
     },
     "user_tz": -330
    },
    "id": "66eda8d8"
   },
   "outputs": [],
   "source": [
    "### now lets perform Target Guided Mean encoding on 'Destination' .."
   ]
  },
  {
   "cell_type": "code",
   "execution_count": null,
   "id": "ff9d4930",
   "metadata": {
    "executionInfo": {
     "elapsed": 6953,
     "status": "aborted",
     "timestamp": 1692735309724,
     "user": {
      "displayName": "Applied AI",
      "userId": "13061182627446198291"
     },
     "user_tz": -330
    },
    "id": "ff9d4930"
   },
   "outputs": [],
   "source": [
    "data['Destination'].unique()"
   ]
  },
  {
   "cell_type": "code",
   "execution_count": 10,
   "id": "f21f86cc",
   "metadata": {
    "colab": {
     "base_uri": "https://localhost:8080/",
     "height": 53
    },
    "executionInfo": {
     "elapsed": 330,
     "status": "ok",
     "timestamp": 1692735312232,
     "user": {
      "displayName": "Applied AI",
      "userId": "13061182627446198291"
     },
     "user_tz": -330
    },
    "id": "f21f86cc",
    "outputId": "68f05c08-5b75-4b1b-cb1d-9f666c0ae9eb"
   },
   "outputs": [
    {
     "data": {
      "application/vnd.google.colaboratory.intrinsic+json": {
       "type": "string"
      },
      "text/plain": [
       "'\\n\\ntill now,Delhi has only one Airport which is IGI & its second Airport is yet to build in Greater Noida (Jewar) \\nwhich is neighbouring part of Delhi so we will consider New Delhi & Delhi as same\\n\\nbut in future , these conditions may change..\\n\\n\\n'"
      ]
     },
     "execution_count": 10,
     "metadata": {},
     "output_type": "execute_result"
    }
   ],
   "source": [
    "'''\n",
    "\n",
    "till now,Delhi has only one Airport which is IGI & its second Airport is yet to build in Greater Noida (Jewar)\n",
    "which is neighbouring part of Delhi so we will consider New Delhi & Delhi as same\n",
    "\n",
    "but in future , these conditions may change..\n",
    "\n",
    "\n",
    "'''"
   ]
  },
  {
   "cell_type": "code",
   "execution_count": 11,
   "id": "1c1a8b1f",
   "metadata": {
    "colab": {
     "base_uri": "https://localhost:8080/",
     "height": 175
    },
    "executionInfo": {
     "elapsed": 329,
     "status": "error",
     "timestamp": 1692735312234,
     "user": {
      "displayName": "Applied AI",
      "userId": "13061182627446198291"
     },
     "user_tz": -330
    },
    "id": "1c1a8b1f",
    "outputId": "ffae61db-3d4e-4696-e162-a5bfda745624"
   },
   "outputs": [
    {
     "ename": "NameError",
     "evalue": "ignored",
     "output_type": "error",
     "traceback": [
      "\u001b[0;31m---------------------------------------------------------------------------\u001b[0m",
      "\u001b[0;31mNameError\u001b[0m                                 Traceback (most recent call last)",
      "\u001b[0;32m<ipython-input-11-ef93d9fe477b>\u001b[0m in \u001b[0;36m<cell line: 1>\u001b[0;34m()\u001b[0m\n\u001b[0;32m----> 1\u001b[0;31m \u001b[0mdata\u001b[0m\u001b[0;34m[\u001b[0m\u001b[0;34m'Destination'\u001b[0m\u001b[0;34m]\u001b[0m\u001b[0;34m.\u001b[0m\u001b[0mreplace\u001b[0m\u001b[0;34m(\u001b[0m\u001b[0;34m'New Delhi'\u001b[0m \u001b[0;34m,\u001b[0m \u001b[0;34m'Delhi'\u001b[0m \u001b[0;34m,\u001b[0m \u001b[0minplace\u001b[0m\u001b[0;34m=\u001b[0m\u001b[0;32mTrue\u001b[0m\u001b[0;34m)\u001b[0m\u001b[0;34m\u001b[0m\u001b[0;34m\u001b[0m\u001b[0m\n\u001b[0m",
      "\u001b[0;31mNameError\u001b[0m: name 'data' is not defined"
     ]
    }
   ],
   "source": [
    "data['Destination'].replace('New Delhi' , 'Delhi' , inplace=True)"
   ]
  },
  {
   "cell_type": "code",
   "execution_count": null,
   "id": "2dc490c2",
   "metadata": {
    "executionInfo": {
     "elapsed": 6933,
     "status": "aborted",
     "timestamp": 1692735309725,
     "user": {
      "displayName": "Applied AI",
      "userId": "13061182627446198291"
     },
     "user_tz": -330
    },
    "id": "2dc490c2"
   },
   "outputs": [],
   "source": [
    "data['Destination'].unique()"
   ]
  },
  {
   "cell_type": "code",
   "execution_count": null,
   "id": "314f564b",
   "metadata": {
    "executionInfo": {
     "elapsed": 6932,
     "status": "aborted",
     "timestamp": 1692735309729,
     "user": {
      "displayName": "Applied AI",
      "userId": "13061182627446198291"
     },
     "user_tz": -330
    },
    "id": "314f564b"
   },
   "outputs": [],
   "source": []
  },
  {
   "cell_type": "code",
   "execution_count": null,
   "id": "572bb3bf",
   "metadata": {
    "executionInfo": {
     "elapsed": 6929,
     "status": "aborted",
     "timestamp": 1692735309729,
     "user": {
      "displayName": "Applied AI",
      "userId": "13061182627446198291"
     },
     "user_tz": -330
    },
    "id": "572bb3bf"
   },
   "outputs": [],
   "source": [
    "dest = data.groupby(['Destination'])['Price'].mean().sort_values().index"
   ]
  },
  {
   "cell_type": "code",
   "execution_count": null,
   "id": "0d20d077",
   "metadata": {
    "executionInfo": {
     "elapsed": 6914,
     "status": "aborted",
     "timestamp": 1692735309730,
     "user": {
      "displayName": "Applied AI",
      "userId": "13061182627446198291"
     },
     "user_tz": -330
    },
    "id": "0d20d077"
   },
   "outputs": [],
   "source": [
    "dest"
   ]
  },
  {
   "cell_type": "code",
   "execution_count": null,
   "id": "c0b22f55",
   "metadata": {
    "executionInfo": {
     "elapsed": 6912,
     "status": "aborted",
     "timestamp": 1692735309731,
     "user": {
      "displayName": "Applied AI",
      "userId": "13061182627446198291"
     },
     "user_tz": -330
    },
    "id": "c0b22f55"
   },
   "outputs": [],
   "source": [
    "dict_dest = {key:index for index , key in enumerate(dest , 0)}"
   ]
  },
  {
   "cell_type": "code",
   "execution_count": null,
   "id": "b851ab60",
   "metadata": {
    "executionInfo": {
     "elapsed": 6897,
     "status": "aborted",
     "timestamp": 1692735309732,
     "user": {
      "displayName": "Applied AI",
      "userId": "13061182627446198291"
     },
     "user_tz": -330
    },
    "id": "b851ab60"
   },
   "outputs": [],
   "source": [
    "dict_dest"
   ]
  },
  {
   "cell_type": "code",
   "execution_count": null,
   "id": "825c398f",
   "metadata": {
    "executionInfo": {
     "elapsed": 6895,
     "status": "aborted",
     "timestamp": 1692735309733,
     "user": {
      "displayName": "Applied AI",
      "userId": "13061182627446198291"
     },
     "user_tz": -330
    },
    "id": "825c398f"
   },
   "outputs": [],
   "source": [
    "data['Destination'] = data['Destination'].map(dict_dest)"
   ]
  },
  {
   "cell_type": "code",
   "execution_count": null,
   "id": "baaea9ec",
   "metadata": {
    "executionInfo": {
     "elapsed": 6877,
     "status": "aborted",
     "timestamp": 1692735309733,
     "user": {
      "displayName": "Applied AI",
      "userId": "13061182627446198291"
     },
     "user_tz": -330
    },
    "id": "baaea9ec"
   },
   "outputs": [],
   "source": [
    "data['Destination']"
   ]
  },
  {
   "cell_type": "code",
   "execution_count": null,
   "id": "68d9a8c9",
   "metadata": {
    "executionInfo": {
     "elapsed": 6849,
     "status": "aborted",
     "timestamp": 1692735309735,
     "user": {
      "displayName": "Applied AI",
      "userId": "13061182627446198291"
     },
     "user_tz": -330
    },
    "id": "68d9a8c9"
   },
   "outputs": [],
   "source": [
    "data.head(3)"
   ]
  },
  {
   "cell_type": "code",
   "execution_count": null,
   "id": "3a3f9bc8",
   "metadata": {
    "executionInfo": {
     "elapsed": 6844,
     "status": "aborted",
     "timestamp": 1692735309736,
     "user": {
      "displayName": "Applied AI",
      "userId": "13061182627446198291"
     },
     "user_tz": -330
    },
    "id": "3a3f9bc8"
   },
   "outputs": [],
   "source": []
  },
  {
   "cell_type": "code",
   "execution_count": null,
   "id": "ad2b4256",
   "metadata": {
    "executionInfo": {
     "elapsed": 6841,
     "status": "aborted",
     "timestamp": 1692735309737,
     "user": {
      "displayName": "Applied AI",
      "userId": "13061182627446198291"
     },
     "user_tz": -330
    },
    "id": "ad2b4256"
   },
   "outputs": [],
   "source": []
  },
  {
   "cell_type": "code",
   "execution_count": null,
   "id": "54d5cfe5",
   "metadata": {
    "executionInfo": {
     "elapsed": 6838,
     "status": "aborted",
     "timestamp": 1692735309737,
     "user": {
      "displayName": "Applied AI",
      "userId": "13061182627446198291"
     },
     "user_tz": -330
    },
    "id": "54d5cfe5"
   },
   "outputs": [],
   "source": []
  },
  {
   "cell_type": "code",
   "execution_count": null,
   "id": "b8ecb465",
   "metadata": {
    "executionInfo": {
     "elapsed": 6835,
     "status": "aborted",
     "timestamp": 1692735309738,
     "user": {
      "displayName": "Applied AI",
      "userId": "13061182627446198291"
     },
     "user_tz": -330
    },
    "id": "b8ecb465"
   },
   "outputs": [],
   "source": []
  },
  {
   "cell_type": "markdown",
   "id": "e4ffc4df",
   "metadata": {
    "id": "e4ffc4df"
   },
   "source": [
    "## 11.. Perform Label(Manual) Encoding on Data"
   ]
  },
  {
   "cell_type": "code",
   "execution_count": null,
   "id": "2a62b8d3",
   "metadata": {
    "executionInfo": {
     "elapsed": 6797,
     "status": "aborted",
     "timestamp": 1692735309739,
     "user": {
      "displayName": "Applied AI",
      "userId": "13061182627446198291"
     },
     "user_tz": -330
    },
    "id": "2a62b8d3"
   },
   "outputs": [],
   "source": [
    "data.head(3)"
   ]
  },
  {
   "cell_type": "code",
   "execution_count": null,
   "id": "29ddc584",
   "metadata": {
    "executionInfo": {
     "elapsed": 6783,
     "status": "aborted",
     "timestamp": 1692735309740,
     "user": {
      "displayName": "Applied AI",
      "userId": "13061182627446198291"
     },
     "user_tz": -330
    },
    "id": "29ddc584"
   },
   "outputs": [],
   "source": [
    "data['Total_Stops']"
   ]
  },
  {
   "cell_type": "code",
   "execution_count": null,
   "id": "4ec0346f",
   "metadata": {
    "executionInfo": {
     "elapsed": 6767,
     "status": "aborted",
     "timestamp": 1692735309741,
     "user": {
      "displayName": "Applied AI",
      "userId": "13061182627446198291"
     },
     "user_tz": -330
    },
    "id": "4ec0346f"
   },
   "outputs": [],
   "source": [
    "data['Total_Stops'].unique()"
   ]
  },
  {
   "cell_type": "code",
   "execution_count": 12,
   "id": "c1b4cbed",
   "metadata": {
    "executionInfo": {
     "elapsed": 323,
     "status": "ok",
     "timestamp": 1692735312235,
     "user": {
      "displayName": "Applied AI",
      "userId": "13061182627446198291"
     },
     "user_tz": -330
    },
    "id": "c1b4cbed"
   },
   "outputs": [],
   "source": [
    "# As this is case of Ordinal Categorical type we perform Label encoding from scratch !\n",
    "# Here Values are assigned with corresponding key"
   ]
  },
  {
   "cell_type": "code",
   "execution_count": 13,
   "id": "0db14ff4",
   "metadata": {
    "executionInfo": {
     "elapsed": 327,
     "status": "ok",
     "timestamp": 1692735312241,
     "user": {
      "displayName": "Applied AI",
      "userId": "13061182627446198291"
     },
     "user_tz": -330
    },
    "id": "0db14ff4"
   },
   "outputs": [],
   "source": [
    "stop = {'non-stop':0, '2 stops':2, '1 stop':1, '3 stops':3, '4 stops':4}"
   ]
  },
  {
   "cell_type": "code",
   "execution_count": 14,
   "id": "a7427ec7",
   "metadata": {
    "colab": {
     "base_uri": "https://localhost:8080/",
     "height": 175
    },
    "executionInfo": {
     "elapsed": 329,
     "status": "error",
     "timestamp": 1692735312244,
     "user": {
      "displayName": "Applied AI",
      "userId": "13061182627446198291"
     },
     "user_tz": -330
    },
    "id": "a7427ec7",
    "outputId": "059bff31-bec2-461a-f370-cff8d1f280bc"
   },
   "outputs": [
    {
     "ename": "NameError",
     "evalue": "ignored",
     "output_type": "error",
     "traceback": [
      "\u001b[0;31m---------------------------------------------------------------------------\u001b[0m",
      "\u001b[0;31mNameError\u001b[0m                                 Traceback (most recent call last)",
      "\u001b[0;32m<ipython-input-14-273770aac1b7>\u001b[0m in \u001b[0;36m<cell line: 1>\u001b[0;34m()\u001b[0m\n\u001b[0;32m----> 1\u001b[0;31m \u001b[0mdata\u001b[0m\u001b[0;34m[\u001b[0m\u001b[0;34m'Total_Stops'\u001b[0m\u001b[0;34m]\u001b[0m \u001b[0;34m=\u001b[0m \u001b[0mdata\u001b[0m\u001b[0;34m[\u001b[0m\u001b[0;34m'Total_Stops'\u001b[0m\u001b[0;34m]\u001b[0m\u001b[0;34m.\u001b[0m\u001b[0mmap\u001b[0m\u001b[0;34m(\u001b[0m\u001b[0mstop\u001b[0m\u001b[0;34m)\u001b[0m\u001b[0;34m\u001b[0m\u001b[0;34m\u001b[0m\u001b[0m\n\u001b[0m",
      "\u001b[0;31mNameError\u001b[0m: name 'data' is not defined"
     ]
    }
   ],
   "source": [
    "data['Total_Stops'] = data['Total_Stops'].map(stop)"
   ]
  },
  {
   "cell_type": "code",
   "execution_count": null,
   "id": "aad6c998",
   "metadata": {
    "executionInfo": {
     "elapsed": 6737,
     "status": "aborted",
     "timestamp": 1692735309742,
     "user": {
      "displayName": "Applied AI",
      "userId": "13061182627446198291"
     },
     "user_tz": -330
    },
    "id": "aad6c998"
   },
   "outputs": [],
   "source": [
    "data['Total_Stops']"
   ]
  },
  {
   "cell_type": "code",
   "execution_count": null,
   "id": "1e725c35",
   "metadata": {
    "executionInfo": {
     "elapsed": 6735,
     "status": "aborted",
     "timestamp": 1692735309743,
     "user": {
      "displayName": "Applied AI",
      "userId": "13061182627446198291"
     },
     "user_tz": -330
    },
    "id": "1e725c35"
   },
   "outputs": [],
   "source": []
  },
  {
   "cell_type": "code",
   "execution_count": null,
   "id": "dcdb1679",
   "metadata": {
    "executionInfo": {
     "elapsed": 6732,
     "status": "aborted",
     "timestamp": 1692735309744,
     "user": {
      "displayName": "Applied AI",
      "userId": "13061182627446198291"
     },
     "user_tz": -330
    },
    "id": "dcdb1679"
   },
   "outputs": [],
   "source": []
  },
  {
   "cell_type": "markdown",
   "id": "3e1b8b7e",
   "metadata": {
    "id": "3e1b8b7e"
   },
   "source": [
    "### b.. Remove Un-necessary features"
   ]
  },
  {
   "cell_type": "code",
   "execution_count": 15,
   "id": "1577012a",
   "metadata": {
    "colab": {
     "base_uri": "https://localhost:8080/",
     "height": 175
    },
    "executionInfo": {
     "elapsed": 331,
     "status": "error",
     "timestamp": 1692735312249,
     "user": {
      "displayName": "Applied AI",
      "userId": "13061182627446198291"
     },
     "user_tz": -330
    },
    "id": "1577012a",
    "outputId": "5780c362-0e21-465c-b9d5-fdb382bf2a02"
   },
   "outputs": [
    {
     "ename": "NameError",
     "evalue": "ignored",
     "output_type": "error",
     "traceback": [
      "\u001b[0;31m---------------------------------------------------------------------------\u001b[0m",
      "\u001b[0;31mNameError\u001b[0m                                 Traceback (most recent call last)",
      "\u001b[0;32m<ipython-input-15-7dcb93843bdd>\u001b[0m in \u001b[0;36m<cell line: 1>\u001b[0;34m()\u001b[0m\n\u001b[0;32m----> 1\u001b[0;31m \u001b[0mdata\u001b[0m\u001b[0;34m.\u001b[0m\u001b[0mhead\u001b[0m\u001b[0;34m(\u001b[0m\u001b[0;36m1\u001b[0m\u001b[0;34m)\u001b[0m\u001b[0;34m\u001b[0m\u001b[0;34m\u001b[0m\u001b[0m\n\u001b[0m",
      "\u001b[0;31mNameError\u001b[0m: name 'data' is not defined"
     ]
    }
   ],
   "source": [
    "data.head(1)"
   ]
  },
  {
   "cell_type": "code",
   "execution_count": null,
   "id": "1982c8f3",
   "metadata": {
    "executionInfo": {
     "elapsed": 6686,
     "status": "aborted",
     "timestamp": 1692735309745,
     "user": {
      "displayName": "Applied AI",
      "userId": "13061182627446198291"
     },
     "user_tz": -330
    },
    "id": "1982c8f3"
   },
   "outputs": [],
   "source": [
    "data.columns"
   ]
  },
  {
   "cell_type": "code",
   "execution_count": 16,
   "id": "319f03b6",
   "metadata": {
    "colab": {
     "base_uri": "https://localhost:8080/",
     "height": 210
    },
    "executionInfo": {
     "elapsed": 330,
     "status": "error",
     "timestamp": 1692735312251,
     "user": {
      "displayName": "Applied AI",
      "userId": "13061182627446198291"
     },
     "user_tz": -330
    },
    "id": "319f03b6",
    "outputId": "d1e3675e-e3e0-4282-d075-cbd28daa1b44"
   },
   "outputs": [
    {
     "ename": "NameError",
     "evalue": "ignored",
     "output_type": "error",
     "traceback": [
      "\u001b[0;31m---------------------------------------------------------------------------\u001b[0m",
      "\u001b[0;31mNameError\u001b[0m                                 Traceback (most recent call last)",
      "\u001b[0;32m<ipython-input-16-7351377a8485>\u001b[0m in \u001b[0;36m<cell line: 1>\u001b[0;34m()\u001b[0m\n\u001b[0;32m----> 1\u001b[0;31m \u001b[0mdata\u001b[0m\u001b[0;34m[\u001b[0m\u001b[0;34m'Additional_Info'\u001b[0m\u001b[0;34m]\u001b[0m\u001b[0;34m.\u001b[0m\u001b[0mvalue_counts\u001b[0m\u001b[0;34m(\u001b[0m\u001b[0;34m)\u001b[0m\u001b[0;34m/\u001b[0m\u001b[0mlen\u001b[0m\u001b[0;34m(\u001b[0m\u001b[0mdata\u001b[0m\u001b[0;34m)\u001b[0m\u001b[0;34m*\u001b[0m\u001b[0;36m100\u001b[0m\u001b[0;34m\u001b[0m\u001b[0;34m\u001b[0m\u001b[0m\n\u001b[0m\u001b[1;32m      2\u001b[0m \u001b[0;34m\u001b[0m\u001b[0m\n\u001b[1;32m      3\u001b[0m \u001b[0;31m# Additional_Info contains almost 80% no_info,so we can drop this column\u001b[0m\u001b[0;34m\u001b[0m\u001b[0;34m\u001b[0m\u001b[0m\n",
      "\u001b[0;31mNameError\u001b[0m: name 'data' is not defined"
     ]
    }
   ],
   "source": [
    "data['Additional_Info'].value_counts()/len(data)*100\n",
    "\n",
    "# Additional_Info contains almost 80% no_info,so we can drop this column"
   ]
  },
  {
   "cell_type": "code",
   "execution_count": null,
   "id": "61b241cf",
   "metadata": {
    "executionInfo": {
     "elapsed": 6629,
     "status": "aborted",
     "timestamp": 1692735309746,
     "user": {
      "displayName": "Applied AI",
      "userId": "13061182627446198291"
     },
     "user_tz": -330
    },
    "id": "61b241cf"
   },
   "outputs": [],
   "source": [
    "data.head(4)"
   ]
  },
  {
   "cell_type": "code",
   "execution_count": null,
   "id": "476afe31",
   "metadata": {
    "executionInfo": {
     "elapsed": 6627,
     "status": "aborted",
     "timestamp": 1692735309747,
     "user": {
      "displayName": "Applied AI",
      "userId": "13061182627446198291"
     },
     "user_tz": -330
    },
    "id": "476afe31"
   },
   "outputs": [],
   "source": []
  },
  {
   "cell_type": "code",
   "execution_count": null,
   "id": "9623c5bf",
   "metadata": {
    "executionInfo": {
     "elapsed": 6614,
     "status": "aborted",
     "timestamp": 1692735309748,
     "user": {
      "displayName": "Applied AI",
      "userId": "13061182627446198291"
     },
     "user_tz": -330
    },
    "id": "9623c5bf"
   },
   "outputs": [],
   "source": [
    "data.columns"
   ]
  },
  {
   "cell_type": "code",
   "execution_count": null,
   "id": "cd5a2be6",
   "metadata": {
    "executionInfo": {
     "elapsed": 6600,
     "status": "aborted",
     "timestamp": 1692735309749,
     "user": {
      "displayName": "Applied AI",
      "userId": "13061182627446198291"
     },
     "user_tz": -330
    },
    "id": "cd5a2be6"
   },
   "outputs": [],
   "source": [
    "data['Journey_year'].unique()"
   ]
  },
  {
   "cell_type": "code",
   "execution_count": null,
   "id": "dedf38ba",
   "metadata": {
    "executionInfo": {
     "elapsed": 6598,
     "status": "aborted",
     "timestamp": 1692735309750,
     "user": {
      "displayName": "Applied AI",
      "userId": "13061182627446198291"
     },
     "user_tz": -330
    },
    "id": "dedf38ba"
   },
   "outputs": [],
   "source": [
    "'''\n",
    "\n",
    "lets drop Date_of_Journey as well as we have already extracted \"Journey_hour\" , \"jpuney_month\" , Journey_day\"..\n",
    "Additional_Info contains almost 80% no_info , so we can drop this column ..\n",
    "lets drop Duration_total_mins as we have already extracted \"Duration_hours\" & \"Duration_mins\"\n",
    "Lets drop \"Source\" feature as well as we have already perform feature encoding on this Feature\n",
    "lets drop Journey_year as well , as it has constant values throughtout dataframe which is 2019..\n",
    "\n",
    "'''"
   ]
  },
  {
   "cell_type": "code",
   "execution_count": 17,
   "id": "761fac3f",
   "metadata": {
    "colab": {
     "base_uri": "https://localhost:8080/",
     "height": 175
    },
    "executionInfo": {
     "elapsed": 327,
     "status": "error",
     "timestamp": 1692735312254,
     "user": {
      "displayName": "Applied AI",
      "userId": "13061182627446198291"
     },
     "user_tz": -330
    },
    "id": "761fac3f",
    "outputId": "8c875f78-ac8a-4f36-c58e-e952d8c0a506"
   },
   "outputs": [
    {
     "ename": "NameError",
     "evalue": "ignored",
     "output_type": "error",
     "traceback": [
      "\u001b[0;31m---------------------------------------------------------------------------\u001b[0m",
      "\u001b[0;31mNameError\u001b[0m                                 Traceback (most recent call last)",
      "\u001b[0;32m<ipython-input-17-756a7865304a>\u001b[0m in \u001b[0;36m<cell line: 1>\u001b[0;34m()\u001b[0m\n\u001b[0;32m----> 1\u001b[0;31m \u001b[0mdata\u001b[0m\u001b[0;34m.\u001b[0m\u001b[0mdrop\u001b[0m\u001b[0;34m(\u001b[0m\u001b[0mcolumns\u001b[0m\u001b[0;34m=\u001b[0m\u001b[0;34m[\u001b[0m\u001b[0;34m'Date_of_Journey'\u001b[0m \u001b[0;34m,\u001b[0m \u001b[0;34m'Additional_Info'\u001b[0m \u001b[0;34m,\u001b[0m \u001b[0;34m'Duration_total_mins'\u001b[0m \u001b[0;34m,\u001b[0m \u001b[0;34m'Source'\u001b[0m \u001b[0;34m,\u001b[0m \u001b[0;34m'Journey_year'\u001b[0m\u001b[0;34m]\u001b[0m \u001b[0;34m,\u001b[0m \u001b[0maxis\u001b[0m\u001b[0;34m=\u001b[0m\u001b[0;36m1\u001b[0m \u001b[0;34m,\u001b[0m \u001b[0minplace\u001b[0m\u001b[0;34m=\u001b[0m\u001b[0;32mTrue\u001b[0m\u001b[0;34m)\u001b[0m\u001b[0;34m\u001b[0m\u001b[0;34m\u001b[0m\u001b[0m\n\u001b[0m",
      "\u001b[0;31mNameError\u001b[0m: name 'data' is not defined"
     ]
    }
   ],
   "source": [
    "data.drop(columns=['Date_of_Journey' , 'Additional_Info' , 'Duration_total_mins' , 'Source' , 'Journey_year'] , axis=1 , inplace=True)"
   ]
  },
  {
   "cell_type": "code",
   "execution_count": null,
   "id": "3c99dac8",
   "metadata": {
    "executionInfo": {
     "elapsed": 6591,
     "status": "aborted",
     "timestamp": 1692735309750,
     "user": {
      "displayName": "Applied AI",
      "userId": "13061182627446198291"
     },
     "user_tz": -330
    },
    "id": "3c99dac8"
   },
   "outputs": [],
   "source": []
  },
  {
   "cell_type": "code",
   "execution_count": null,
   "id": "3f8bf32d",
   "metadata": {
    "executionInfo": {
     "elapsed": 6576,
     "status": "aborted",
     "timestamp": 1692735309751,
     "user": {
      "displayName": "Applied AI",
      "userId": "13061182627446198291"
     },
     "user_tz": -330
    },
    "id": "3f8bf32d"
   },
   "outputs": [],
   "source": [
    "data.columns"
   ]
  },
  {
   "cell_type": "code",
   "execution_count": null,
   "id": "72bb1185",
   "metadata": {
    "executionInfo": {
     "elapsed": 6549,
     "status": "aborted",
     "timestamp": 1692735309752,
     "user": {
      "displayName": "Applied AI",
      "userId": "13061182627446198291"
     },
     "user_tz": -330
    },
    "id": "72bb1185"
   },
   "outputs": [],
   "source": [
    "data.head(4)"
   ]
  },
  {
   "cell_type": "code",
   "execution_count": null,
   "id": "30e81560",
   "metadata": {
    "executionInfo": {
     "elapsed": 6537,
     "status": "aborted",
     "timestamp": 1692735309753,
     "user": {
      "displayName": "Applied AI",
      "userId": "13061182627446198291"
     },
     "user_tz": -330
    },
    "id": "30e81560"
   },
   "outputs": [],
   "source": [
    "data.drop(columns=['Route'] , axis=1 , inplace=True)\n",
    "\n",
    "## we can drop Route as well bcz Route is directly related to Total stops & considering 2 same features doesnt make sense while building ML model.."
   ]
  },
  {
   "cell_type": "code",
   "execution_count": null,
   "id": "f304e3cb",
   "metadata": {
    "executionInfo": {
     "elapsed": 6507,
     "status": "aborted",
     "timestamp": 1692735309753,
     "user": {
      "displayName": "Applied AI",
      "userId": "13061182627446198291"
     },
     "user_tz": -330
    },
    "id": "f304e3cb"
   },
   "outputs": [],
   "source": [
    "data.head(3)"
   ]
  },
  {
   "cell_type": "code",
   "execution_count": null,
   "id": "808d00f2",
   "metadata": {
    "executionInfo": {
     "elapsed": 6505,
     "status": "aborted",
     "timestamp": 1692735309754,
     "user": {
      "displayName": "Applied AI",
      "userId": "13061182627446198291"
     },
     "user_tz": -330
    },
    "id": "808d00f2"
   },
   "outputs": [],
   "source": [
    "data.drop(columns=['Duration'] , axis=1 , inplace=True)\n",
    "\n",
    "## we can drop \"Duration\" feature as we have extracted \"Duration hour\" & \"Duration Minute\".."
   ]
  },
  {
   "cell_type": "code",
   "execution_count": null,
   "id": "43b3aa39",
   "metadata": {
    "executionInfo": {
     "elapsed": 6481,
     "status": "aborted",
     "timestamp": 1692735309758,
     "user": {
      "displayName": "Applied AI",
      "userId": "13061182627446198291"
     },
     "user_tz": -330
    },
    "id": "43b3aa39"
   },
   "outputs": [],
   "source": [
    "data.head(3)"
   ]
  },
  {
   "cell_type": "code",
   "execution_count": null,
   "id": "d453277e",
   "metadata": {
    "executionInfo": {
     "elapsed": 6479,
     "status": "aborted",
     "timestamp": 1692735309762,
     "user": {
      "displayName": "Applied AI",
      "userId": "13061182627446198291"
     },
     "user_tz": -330
    },
    "id": "d453277e"
   },
   "outputs": [],
   "source": []
  },
  {
   "cell_type": "code",
   "execution_count": null,
   "id": "d18926cf",
   "metadata": {
    "executionInfo": {
     "elapsed": 6476,
     "status": "aborted",
     "timestamp": 1692735309762,
     "user": {
      "displayName": "Applied AI",
      "userId": "13061182627446198291"
     },
     "user_tz": -330
    },
    "id": "d18926cf"
   },
   "outputs": [],
   "source": []
  },
  {
   "cell_type": "code",
   "execution_count": null,
   "id": "03a21c64",
   "metadata": {
    "executionInfo": {
     "elapsed": 6473,
     "status": "aborted",
     "timestamp": 1692735309763,
     "user": {
      "displayName": "Applied AI",
      "userId": "13061182627446198291"
     },
     "user_tz": -330
    },
    "id": "03a21c64"
   },
   "outputs": [],
   "source": []
  },
  {
   "cell_type": "code",
   "execution_count": null,
   "id": "a221328d",
   "metadata": {
    "executionInfo": {
     "elapsed": 6471,
     "status": "aborted",
     "timestamp": 1692735309764,
     "user": {
      "displayName": "Applied AI",
      "userId": "13061182627446198291"
     },
     "user_tz": -330
    },
    "id": "a221328d"
   },
   "outputs": [],
   "source": []
  },
  {
   "cell_type": "markdown",
   "id": "086fcdb7",
   "metadata": {
    "id": "086fcdb7"
   },
   "source": [
    "## 12.. Lets Perform outlier detection !"
   ]
  },
  {
   "cell_type": "raw",
   "id": "c8171bc6",
   "metadata": {
    "id": "c8171bc6"
   },
   "source": [
    "CAUSE FOR OUTLIERS\n",
    "* Data Entry Errors:- Human errors such as errors caused during data collection, recording, or entry can cause outliers in data.\n",
    "* Measurement Error:- It is the most common source of outliers. This is caused when the measurement instrument used turns out to be faulty."
   ]
  },
  {
   "cell_type": "markdown",
   "id": "a280d796",
   "metadata": {
    "id": "a280d796"
   },
   "source": [
    "#### Here the list of data visualization plots to spot the outliers.\n",
    "    1. Box and whisker plot (box plot).\n",
    "    2. Scatter plot.\n",
    "    3. Histogram.\n",
    "    4. Distribution Plot.\n"
   ]
  },
  {
   "cell_type": "code",
   "execution_count": null,
   "id": "471809d8",
   "metadata": {
    "executionInfo": {
     "elapsed": 6468,
     "status": "aborted",
     "timestamp": 1692735309765,
     "user": {
      "displayName": "Applied AI",
      "userId": "13061182627446198291"
     },
     "user_tz": -330
    },
    "id": "471809d8"
   },
   "outputs": [],
   "source": [
    "def plot(df, col):\n",
    "    fig , (ax1 , ax2 , ax3) = plt.subplots(3,1)\n",
    "\n",
    "    sns.distplot(df[col] , ax=ax1)\n",
    "    sns.boxplot(df[col] , ax=ax2)\n",
    "    sns.distplot(df[col] , ax=ax3 , kde=False)"
   ]
  },
  {
   "cell_type": "code",
   "execution_count": null,
   "id": "625cffaf",
   "metadata": {
    "executionInfo": {
     "elapsed": 6432,
     "status": "aborted",
     "timestamp": 1692735309765,
     "user": {
      "displayName": "Applied AI",
      "userId": "13061182627446198291"
     },
     "user_tz": -330
    },
    "id": "625cffaf"
   },
   "outputs": [],
   "source": [
    "plot(data , 'Price')"
   ]
  },
  {
   "cell_type": "code",
   "execution_count": 17,
   "id": "5aec1600",
   "metadata": {
    "executionInfo": {
     "elapsed": 327,
     "status": "ok",
     "timestamp": 1692735312260,
     "user": {
      "displayName": "Applied AI",
      "userId": "13061182627446198291"
     },
     "user_tz": -330
    },
    "id": "5aec1600"
   },
   "outputs": [],
   "source": []
  },
  {
   "cell_type": "code",
   "execution_count": 17,
   "id": "ff662aeb",
   "metadata": {
    "executionInfo": {
     "elapsed": 376,
     "status": "ok",
     "timestamp": 1692735312312,
     "user": {
      "displayName": "Applied AI",
      "userId": "13061182627446198291"
     },
     "user_tz": -330
    },
    "id": "ff662aeb"
   },
   "outputs": [],
   "source": []
  },
  {
   "cell_type": "markdown",
   "id": "89d56a6b",
   "metadata": {
    "id": "89d56a6b"
   },
   "source": [
    "        If Features Are Skewed We Use the below Technique which is IQR\n",
    "        Data which are greater than IQR +1.5 IQR and data which are below than IQR - 1.5 IQR are my outliers\n",
    "        where ,  IQR = 75th%ile data - 25th%ile data\n",
    "         \n",
    "         & IQR +- 1.5 IQR  will be changed depending upon the domain ie it could be sometimes IQR +- 3IQR\n",
    "          \n"
   ]
  },
  {
   "cell_type": "code",
   "execution_count": 18,
   "id": "638b9900",
   "metadata": {
    "colab": {
     "base_uri": "https://localhost:8080/",
     "height": 245
    },
    "executionInfo": {
     "elapsed": 376,
     "status": "error",
     "timestamp": 1692735312313,
     "user": {
      "displayName": "Applied AI",
      "userId": "13061182627446198291"
     },
     "user_tz": -330
    },
    "id": "638b9900",
    "outputId": "5398030f-8ce6-4be3-f777-f2b30a6fab95"
   },
   "outputs": [
    {
     "ename": "NameError",
     "evalue": "ignored",
     "output_type": "error",
     "traceback": [
      "\u001b[0;31m---------------------------------------------------------------------------\u001b[0m",
      "\u001b[0;31mNameError\u001b[0m                                 Traceback (most recent call last)",
      "\u001b[0;32m<ipython-input-18-1ab733a4a854>\u001b[0m in \u001b[0;36m<cell line: 1>\u001b[0;34m()\u001b[0m\n\u001b[0;32m----> 1\u001b[0;31m \u001b[0mq1\u001b[0m \u001b[0;34m=\u001b[0m \u001b[0mdata\u001b[0m\u001b[0;34m[\u001b[0m\u001b[0;34m'Price'\u001b[0m\u001b[0;34m]\u001b[0m\u001b[0;34m.\u001b[0m\u001b[0mquantile\u001b[0m\u001b[0;34m(\u001b[0m\u001b[0;36m0.25\u001b[0m\u001b[0;34m)\u001b[0m\u001b[0;34m\u001b[0m\u001b[0;34m\u001b[0m\u001b[0m\n\u001b[0m\u001b[1;32m      2\u001b[0m \u001b[0mq3\u001b[0m \u001b[0;34m=\u001b[0m \u001b[0mdata\u001b[0m\u001b[0;34m[\u001b[0m\u001b[0;34m'Price'\u001b[0m\u001b[0;34m]\u001b[0m\u001b[0;34m.\u001b[0m\u001b[0mquantile\u001b[0m\u001b[0;34m(\u001b[0m\u001b[0;36m0.75\u001b[0m\u001b[0;34m)\u001b[0m\u001b[0;34m\u001b[0m\u001b[0;34m\u001b[0m\u001b[0m\n\u001b[1;32m      3\u001b[0m \u001b[0;34m\u001b[0m\u001b[0m\n\u001b[1;32m      4\u001b[0m \u001b[0miqr\u001b[0m \u001b[0;34m=\u001b[0m \u001b[0mq3\u001b[0m\u001b[0;34m-\u001b[0m \u001b[0mq1\u001b[0m\u001b[0;34m\u001b[0m\u001b[0;34m\u001b[0m\u001b[0m\n\u001b[1;32m      5\u001b[0m \u001b[0;34m\u001b[0m\u001b[0m\n",
      "\u001b[0;31mNameError\u001b[0m: name 'data' is not defined"
     ]
    }
   ],
   "source": [
    "q1 = data['Price'].quantile(0.25)\n",
    "q3 = data['Price'].quantile(0.75)\n",
    "\n",
    "iqr = q3- q1\n",
    "\n",
    "maximum = q3 + 1.5*iqr\n",
    "minimum = q1 - 1.5*iqr"
   ]
  },
  {
   "cell_type": "code",
   "execution_count": null,
   "id": "3dfa9cda",
   "metadata": {
    "executionInfo": {
     "elapsed": 6407,
     "status": "aborted",
     "timestamp": 1692735309766,
     "user": {
      "displayName": "Applied AI",
      "userId": "13061182627446198291"
     },
     "user_tz": -330
    },
    "id": "3dfa9cda"
   },
   "outputs": [],
   "source": [
    "print(maximum)"
   ]
  },
  {
   "cell_type": "code",
   "execution_count": null,
   "id": "095e2417",
   "metadata": {
    "executionInfo": {
     "elapsed": 6393,
     "status": "aborted",
     "timestamp": 1692735309767,
     "user": {
      "displayName": "Applied AI",
      "userId": "13061182627446198291"
     },
     "user_tz": -330
    },
    "id": "095e2417"
   },
   "outputs": [],
   "source": [
    "print(minimum)"
   ]
  },
  {
   "cell_type": "code",
   "execution_count": null,
   "id": "ee6edcce",
   "metadata": {
    "executionInfo": {
     "elapsed": 6391,
     "status": "aborted",
     "timestamp": 1692735309768,
     "user": {
      "displayName": "Applied AI",
      "userId": "13061182627446198291"
     },
     "user_tz": -330
    },
    "id": "ee6edcce"
   },
   "outputs": [],
   "source": []
  },
  {
   "cell_type": "code",
   "execution_count": null,
   "id": "a8aea831",
   "metadata": {
    "executionInfo": {
     "elapsed": 6371,
     "status": "aborted",
     "timestamp": 1692735309769,
     "user": {
      "displayName": "Applied AI",
      "userId": "13061182627446198291"
     },
     "user_tz": -330
    },
    "id": "a8aea831"
   },
   "outputs": [],
   "source": [
    "print([price for price in data['Price'] if price> maximum or price<minimum])"
   ]
  },
  {
   "cell_type": "code",
   "execution_count": null,
   "id": "7159eee4",
   "metadata": {
    "executionInfo": {
     "elapsed": 6357,
     "status": "aborted",
     "timestamp": 1692735309769,
     "user": {
      "displayName": "Applied AI",
      "userId": "13061182627446198291"
     },
     "user_tz": -330
    },
    "id": "7159eee4"
   },
   "outputs": [],
   "source": [
    "len([price for price in data['Price'] if price> maximum or price<minimum])"
   ]
  },
  {
   "cell_type": "code",
   "execution_count": null,
   "id": "5e29ecf3",
   "metadata": {
    "executionInfo": {
     "elapsed": 6355,
     "status": "aborted",
     "timestamp": 1692735309770,
     "user": {
      "displayName": "Applied AI",
      "userId": "13061182627446198291"
     },
     "user_tz": -330
    },
    "id": "5e29ecf3"
   },
   "outputs": [],
   "source": []
  },
  {
   "cell_type": "code",
   "execution_count": null,
   "id": "1fa6b0a2",
   "metadata": {
    "executionInfo": {
     "elapsed": 6353,
     "status": "aborted",
     "timestamp": 1692735309772,
     "user": {
      "displayName": "Applied AI",
      "userId": "13061182627446198291"
     },
     "user_tz": -330
    },
    "id": "1fa6b0a2"
   },
   "outputs": [],
   "source": []
  },
  {
   "cell_type": "markdown",
   "id": "e0fd1919",
   "metadata": {
    "id": "e0fd1919"
   },
   "source": [
    "### b.. How to deal with Outlier"
   ]
  },
  {
   "cell_type": "code",
   "execution_count": null,
   "id": "75e72f9c",
   "metadata": {
    "executionInfo": {
     "elapsed": 6351,
     "status": "aborted",
     "timestamp": 1692735309772,
     "user": {
      "displayName": "Applied AI",
      "userId": "13061182627446198291"
     },
     "user_tz": -330
    },
    "id": "75e72f9c"
   },
   "outputs": [],
   "source": [
    "### wherever I have price >35K just replace replace it with median of Price\n",
    "\n",
    "data['Price'] = np.where(data['Price']>=35000 , data['Price'].median() , data['Price'])"
   ]
  },
  {
   "cell_type": "code",
   "execution_count": null,
   "id": "2d1274f7",
   "metadata": {
    "executionInfo": {
     "elapsed": 6310,
     "status": "aborted",
     "timestamp": 1692735309773,
     "user": {
      "displayName": "Applied AI",
      "userId": "13061182627446198291"
     },
     "user_tz": -330
    },
    "id": "2d1274f7"
   },
   "outputs": [],
   "source": [
    "plot(data , 'Price')"
   ]
  },
  {
   "cell_type": "code",
   "execution_count": null,
   "id": "e134a51c",
   "metadata": {
    "executionInfo": {
     "elapsed": 6308,
     "status": "aborted",
     "timestamp": 1692735309774,
     "user": {
      "displayName": "Applied AI",
      "userId": "13061182627446198291"
     },
     "user_tz": -330
    },
    "id": "e134a51c"
   },
   "outputs": [],
   "source": []
  },
  {
   "cell_type": "code",
   "execution_count": null,
   "id": "d5bfbee8",
   "metadata": {
    "executionInfo": {
     "elapsed": 6306,
     "status": "aborted",
     "timestamp": 1692735309775,
     "user": {
      "displayName": "Applied AI",
      "userId": "13061182627446198291"
     },
     "user_tz": -330
    },
    "id": "d5bfbee8"
   },
   "outputs": [],
   "source": []
  },
  {
   "cell_type": "code",
   "execution_count": null,
   "id": "8f1e7842",
   "metadata": {
    "executionInfo": {
     "elapsed": 6304,
     "status": "aborted",
     "timestamp": 1692735309776,
     "user": {
      "displayName": "Applied AI",
      "userId": "13061182627446198291"
     },
     "user_tz": -330
    },
    "id": "8f1e7842"
   },
   "outputs": [],
   "source": []
  },
  {
   "cell_type": "code",
   "execution_count": null,
   "id": "91386369",
   "metadata": {
    "executionInfo": {
     "elapsed": 6298,
     "status": "aborted",
     "timestamp": 1692735309777,
     "user": {
      "displayName": "Applied AI",
      "userId": "13061182627446198291"
     },
     "user_tz": -330
    },
    "id": "91386369"
   },
   "outputs": [],
   "source": []
  },
  {
   "cell_type": "markdown",
   "id": "c38f71ff",
   "metadata": {
    "id": "c38f71ff"
   },
   "source": [
    "## 13.. Lets Perform feature selection"
   ]
  },
  {
   "cell_type": "code",
   "execution_count": null,
   "id": "58b87eab",
   "metadata": {
    "executionInfo": {
     "elapsed": 6295,
     "status": "aborted",
     "timestamp": 1692735309778,
     "user": {
      "displayName": "Applied AI",
      "userId": "13061182627446198291"
     },
     "user_tz": -330
    },
    "id": "58b87eab"
   },
   "outputs": [],
   "source": [
    "'''\n",
    "    : Feature Selection\n",
    "    Finding out the best feature which will contribute and have good relation with target variable.\n",
    "\n",
    "\n",
    "    Q-> Why to apply Feature Selection?\n",
    "    To select important features ie to get rid of curse of dimensionality ie..or to get rid of duplicate features\n",
    "\n",
    "'''"
   ]
  },
  {
   "cell_type": "code",
   "execution_count": null,
   "id": "88a28314",
   "metadata": {
    "executionInfo": {
     "elapsed": 6292,
     "status": "aborted",
     "timestamp": 1692735309779,
     "user": {
      "displayName": "Applied AI",
      "userId": "13061182627446198291"
     },
     "user_tz": -330
    },
    "id": "88a28314"
   },
   "outputs": [],
   "source": [
    "X = data.drop(['Price'] , axis=1)"
   ]
  },
  {
   "cell_type": "code",
   "execution_count": null,
   "id": "72efb5b7",
   "metadata": {
    "executionInfo": {
     "elapsed": 6289,
     "status": "aborted",
     "timestamp": 1692735309780,
     "user": {
      "displayName": "Applied AI",
      "userId": "13061182627446198291"
     },
     "user_tz": -330
    },
    "id": "72efb5b7"
   },
   "outputs": [],
   "source": [
    "y = data['Price']"
   ]
  },
  {
   "cell_type": "code",
   "execution_count": null,
   "id": "c6443b8e",
   "metadata": {
    "executionInfo": {
     "elapsed": 6284,
     "status": "aborted",
     "timestamp": 1692735309781,
     "user": {
      "displayName": "Applied AI",
      "userId": "13061182627446198291"
     },
     "user_tz": -330
    },
    "id": "c6443b8e"
   },
   "outputs": [],
   "source": [
    "from sklearn.feature_selection import mutual_info_regression"
   ]
  },
  {
   "cell_type": "code",
   "execution_count": null,
   "id": "617cbfe9",
   "metadata": {
    "executionInfo": {
     "elapsed": 6280,
     "status": "aborted",
     "timestamp": 1692735309781,
     "user": {
      "displayName": "Applied AI",
      "userId": "13061182627446198291"
     },
     "user_tz": -330
    },
    "id": "617cbfe9"
   },
   "outputs": [],
   "source": [
    "imp = mutual_info_regression(X , y)"
   ]
  },
  {
   "cell_type": "code",
   "execution_count": null,
   "id": "3111a6a1",
   "metadata": {
    "executionInfo": {
     "elapsed": 6278,
     "status": "aborted",
     "timestamp": 1692735309782,
     "user": {
      "displayName": "Applied AI",
      "userId": "13061182627446198291"
     },
     "user_tz": -330
    },
    "id": "3111a6a1"
   },
   "outputs": [],
   "source": [
    "'''\n",
    "Estimate mutual information for a continuous target variable.\n",
    "\n",
    "Mutual information between two random variables is a non-negative\n",
    "value, which measures the dependency between the variables.\n",
    "If It is equal to zero it means two random variables are independent, and higher\n",
    "values mean higher dependency.\n",
    "\n",
    "'''\n"
   ]
  },
  {
   "cell_type": "code",
   "execution_count": null,
   "id": "75ef36cc",
   "metadata": {
    "executionInfo": {
     "elapsed": 6264,
     "status": "aborted",
     "timestamp": 1692735309783,
     "user": {
      "displayName": "Applied AI",
      "userId": "13061182627446198291"
     },
     "user_tz": -330
    },
    "id": "75ef36cc"
   },
   "outputs": [],
   "source": [
    "imp"
   ]
  },
  {
   "cell_type": "code",
   "execution_count": null,
   "id": "a199f6d0",
   "metadata": {
    "executionInfo": {
     "elapsed": 6262,
     "status": "aborted",
     "timestamp": 1692735309784,
     "user": {
      "displayName": "Applied AI",
      "userId": "13061182627446198291"
     },
     "user_tz": -330
    },
    "id": "a199f6d0"
   },
   "outputs": [],
   "source": [
    "imp_df = pd.DataFrame(imp , index=X.columns)"
   ]
  },
  {
   "cell_type": "code",
   "execution_count": 19,
   "id": "f122b957",
   "metadata": {
    "colab": {
     "base_uri": "https://localhost:8080/",
     "height": 175
    },
    "executionInfo": {
     "elapsed": 367,
     "status": "error",
     "timestamp": 1692735312317,
     "user": {
      "displayName": "Applied AI",
      "userId": "13061182627446198291"
     },
     "user_tz": -330
    },
    "id": "f122b957",
    "outputId": "1dfa5777-3494-45a2-e944-11baee73b4fc"
   },
   "outputs": [
    {
     "ename": "NameError",
     "evalue": "ignored",
     "output_type": "error",
     "traceback": [
      "\u001b[0;31m---------------------------------------------------------------------------\u001b[0m",
      "\u001b[0;31mNameError\u001b[0m                                 Traceback (most recent call last)",
      "\u001b[0;32m<ipython-input-19-68f14e5e55f0>\u001b[0m in \u001b[0;36m<cell line: 1>\u001b[0;34m()\u001b[0m\n\u001b[0;32m----> 1\u001b[0;31m \u001b[0mimp_df\u001b[0m\u001b[0;34m.\u001b[0m\u001b[0mcolumns\u001b[0m \u001b[0;34m=\u001b[0m \u001b[0;34m[\u001b[0m\u001b[0;34m'importance'\u001b[0m\u001b[0;34m]\u001b[0m\u001b[0;34m\u001b[0m\u001b[0;34m\u001b[0m\u001b[0m\n\u001b[0m",
      "\u001b[0;31mNameError\u001b[0m: name 'imp_df' is not defined"
     ]
    }
   ],
   "source": [
    "imp_df.columns = ['importance']"
   ]
  },
  {
   "cell_type": "code",
   "execution_count": null,
   "id": "ad702ffd",
   "metadata": {
    "executionInfo": {
     "elapsed": 6220,
     "status": "aborted",
     "timestamp": 1692735309785,
     "user": {
      "displayName": "Applied AI",
      "userId": "13061182627446198291"
     },
     "user_tz": -330
    },
    "id": "ad702ffd"
   },
   "outputs": [],
   "source": [
    "imp_df"
   ]
  },
  {
   "cell_type": "code",
   "execution_count": null,
   "id": "4cb514d2",
   "metadata": {
    "executionInfo": {
     "elapsed": 6181,
     "status": "aborted",
     "timestamp": 1692735309785,
     "user": {
      "displayName": "Applied AI",
      "userId": "13061182627446198291"
     },
     "user_tz": -330
    },
    "id": "4cb514d2"
   },
   "outputs": [],
   "source": [
    "imp_df.sort_values(by='importance' , ascending=False)"
   ]
  },
  {
   "cell_type": "code",
   "execution_count": null,
   "id": "3e02a467",
   "metadata": {
    "executionInfo": {
     "elapsed": 6179,
     "status": "aborted",
     "timestamp": 1692735309786,
     "user": {
      "displayName": "Applied AI",
      "userId": "13061182627446198291"
     },
     "user_tz": -330
    },
    "id": "3e02a467"
   },
   "outputs": [],
   "source": []
  },
  {
   "cell_type": "code",
   "execution_count": null,
   "id": "76b28f05",
   "metadata": {
    "executionInfo": {
     "elapsed": 6176,
     "status": "aborted",
     "timestamp": 1692735309787,
     "user": {
      "displayName": "Applied AI",
      "userId": "13061182627446198291"
     },
     "user_tz": -330
    },
    "id": "76b28f05"
   },
   "outputs": [],
   "source": []
  },
  {
   "cell_type": "code",
   "execution_count": null,
   "id": "e2ea7ad2",
   "metadata": {
    "executionInfo": {
     "elapsed": 6177,
     "status": "aborted",
     "timestamp": 1692735309791,
     "user": {
      "displayName": "Applied AI",
      "userId": "13061182627446198291"
     },
     "user_tz": -330
    },
    "id": "e2ea7ad2"
   },
   "outputs": [],
   "source": []
  },
  {
   "cell_type": "code",
   "execution_count": null,
   "id": "35bfe0ce",
   "metadata": {
    "executionInfo": {
     "elapsed": 6177,
     "status": "aborted",
     "timestamp": 1692735309794,
     "user": {
      "displayName": "Applied AI",
      "userId": "13061182627446198291"
     },
     "user_tz": -330
    },
    "id": "35bfe0ce"
   },
   "outputs": [],
   "source": []
  },
  {
   "cell_type": "markdown",
   "id": "dca6b413",
   "metadata": {
    "id": "dca6b413"
   },
   "source": [
    "## 14.. Lets Build ML model"
   ]
  },
  {
   "cell_type": "markdown",
   "id": "5e04a941",
   "metadata": {
    "id": "5e04a941"
   },
   "source": [
    "#### split dataset into train & test"
   ]
  },
  {
   "cell_type": "code",
   "execution_count": null,
   "id": "c9611100",
   "metadata": {
    "executionInfo": {
     "elapsed": 6175,
     "status": "aborted",
     "timestamp": 1692735309795,
     "user": {
      "displayName": "Applied AI",
      "userId": "13061182627446198291"
     },
     "user_tz": -330
    },
    "id": "c9611100"
   },
   "outputs": [],
   "source": [
    "from sklearn.model_selection import train_test_split"
   ]
  },
  {
   "cell_type": "code",
   "execution_count": null,
   "id": "2db5d84d",
   "metadata": {
    "executionInfo": {
     "elapsed": 6172,
     "status": "aborted",
     "timestamp": 1692735309795,
     "user": {
      "displayName": "Applied AI",
      "userId": "13061182627446198291"
     },
     "user_tz": -330
    },
    "id": "2db5d84d"
   },
   "outputs": [],
   "source": [
    "X_train, X_test, y_train, y_test = train_test_split(\n",
    "   X, y, test_size=0.25, random_state=42)"
   ]
  },
  {
   "cell_type": "markdown",
   "id": "6cc06393",
   "metadata": {
    "id": "6cc06393"
   },
   "source": [
    "#### what we often do in modelling:\n",
    "\n",
    "    a..Initially ,lets build basic random model.\n",
    "    b..then later-on , we will try to improve this model using some parameters..\n",
    "    c..Then we will try to improve it..\n",
    "    d..Then we will hyper-tune my model to get optimal value of parameters in order to achieve optimal value of params.."
   ]
  },
  {
   "cell_type": "code",
   "execution_count": null,
   "id": "d5ccb9a7",
   "metadata": {
    "executionInfo": {
     "elapsed": 6169,
     "status": "aborted",
     "timestamp": 1692735309796,
     "user": {
      "displayName": "Applied AI",
      "userId": "13061182627446198291"
     },
     "user_tz": -330
    },
    "id": "d5ccb9a7"
   },
   "outputs": [],
   "source": [
    "from sklearn.ensemble import RandomForestRegressor"
   ]
  },
  {
   "cell_type": "code",
   "execution_count": null,
   "id": "926aae23",
   "metadata": {
    "executionInfo": {
     "elapsed": 6167,
     "status": "aborted",
     "timestamp": 1692735309797,
     "user": {
      "displayName": "Applied AI",
      "userId": "13061182627446198291"
     },
     "user_tz": -330
    },
    "id": "926aae23"
   },
   "outputs": [],
   "source": [
    "ml_model = RandomForestRegressor()"
   ]
  },
  {
   "cell_type": "code",
   "execution_count": null,
   "id": "1640dfaa",
   "metadata": {
    "executionInfo": {
     "elapsed": 6153,
     "status": "aborted",
     "timestamp": 1692735309798,
     "user": {
      "displayName": "Applied AI",
      "userId": "13061182627446198291"
     },
     "user_tz": -330
    },
    "id": "1640dfaa"
   },
   "outputs": [],
   "source": [
    "ml_model.fit(X_train , y_train)"
   ]
  },
  {
   "cell_type": "code",
   "execution_count": null,
   "id": "3a636d57",
   "metadata": {
    "executionInfo": {
     "elapsed": 6150,
     "status": "aborted",
     "timestamp": 1692735309798,
     "user": {
      "displayName": "Applied AI",
      "userId": "13061182627446198291"
     },
     "user_tz": -330
    },
    "id": "3a636d57"
   },
   "outputs": [],
   "source": []
  },
  {
   "cell_type": "code",
   "execution_count": null,
   "id": "b8239fec",
   "metadata": {
    "executionInfo": {
     "elapsed": 6148,
     "status": "aborted",
     "timestamp": 1692735309799,
     "user": {
      "displayName": "Applied AI",
      "userId": "13061182627446198291"
     },
     "user_tz": -330
    },
    "id": "b8239fec"
   },
   "outputs": [],
   "source": [
    "y_pred = ml_model.predict(X_test)"
   ]
  },
  {
   "cell_type": "code",
   "execution_count": null,
   "id": "6bd3d49d",
   "metadata": {
    "executionInfo": {
     "elapsed": 6135,
     "status": "aborted",
     "timestamp": 1692735309800,
     "user": {
      "displayName": "Applied AI",
      "userId": "13061182627446198291"
     },
     "user_tz": -330
    },
    "id": "6bd3d49d"
   },
   "outputs": [],
   "source": [
    "y_pred"
   ]
  },
  {
   "cell_type": "code",
   "execution_count": null,
   "id": "e600b7b9",
   "metadata": {
    "executionInfo": {
     "elapsed": 6132,
     "status": "aborted",
     "timestamp": 1692735309801,
     "user": {
      "displayName": "Applied AI",
      "userId": "13061182627446198291"
     },
     "user_tz": -330
    },
    "id": "e600b7b9"
   },
   "outputs": [],
   "source": []
  },
  {
   "cell_type": "code",
   "execution_count": null,
   "id": "13863428",
   "metadata": {
    "executionInfo": {
     "elapsed": 6129,
     "status": "aborted",
     "timestamp": 1692735309801,
     "user": {
      "displayName": "Applied AI",
      "userId": "13061182627446198291"
     },
     "user_tz": -330
    },
    "id": "13863428"
   },
   "outputs": [],
   "source": [
    "from sklearn import metrics"
   ]
  },
  {
   "cell_type": "code",
   "execution_count": null,
   "id": "5db39a85",
   "metadata": {
    "executionInfo": {
     "elapsed": 6115,
     "status": "aborted",
     "timestamp": 1692735309802,
     "user": {
      "displayName": "Applied AI",
      "userId": "13061182627446198291"
     },
     "user_tz": -330
    },
    "id": "5db39a85"
   },
   "outputs": [],
   "source": [
    "metrics.r2_score(y_test , y_pred)"
   ]
  },
  {
   "cell_type": "code",
   "execution_count": null,
   "id": "a1e7ff77",
   "metadata": {
    "executionInfo": {
     "elapsed": 6108,
     "status": "aborted",
     "timestamp": 1692735309803,
     "user": {
      "displayName": "Applied AI",
      "userId": "13061182627446198291"
     },
     "user_tz": -330
    },
    "id": "a1e7ff77"
   },
   "outputs": [],
   "source": []
  },
  {
   "cell_type": "code",
   "execution_count": null,
   "id": "1dd77d3e",
   "metadata": {
    "executionInfo": {
     "elapsed": 6106,
     "status": "aborted",
     "timestamp": 1692735309804,
     "user": {
      "displayName": "Applied AI",
      "userId": "13061182627446198291"
     },
     "user_tz": -330
    },
    "id": "1dd77d3e"
   },
   "outputs": [],
   "source": []
  },
  {
   "cell_type": "markdown",
   "id": "41c2b255",
   "metadata": {
    "id": "41c2b255"
   },
   "source": [
    "### b.. Lets Save model"
   ]
  },
  {
   "cell_type": "markdown",
   "id": "0ca54f1c",
   "metadata": {
    "id": "0ca54f1c"
   },
   "source": [
    "#### lets try to dump ml model using pickle or joblib..\n",
    "    advantage of dumping--\n",
    "    imagine in future we have new data & lets say we have to predict price on this huge data\n",
    "\n",
    "    then to do prediction on this new data , we can use this pre-trained model what we have dumped..\n"
   ]
  },
  {
   "cell_type": "code",
   "execution_count": null,
   "id": "9e1fd555",
   "metadata": {
    "executionInfo": {
     "elapsed": 6104,
     "status": "aborted",
     "timestamp": 1692735309805,
     "user": {
      "displayName": "Applied AI",
      "userId": "13061182627446198291"
     },
     "user_tz": -330
    },
    "id": "9e1fd555"
   },
   "outputs": [],
   "source": [
    "!pip install pickle"
   ]
  },
  {
   "cell_type": "code",
   "execution_count": null,
   "id": "74dbd0d5",
   "metadata": {
    "executionInfo": {
     "elapsed": 6102,
     "status": "aborted",
     "timestamp": 1692735309806,
     "user": {
      "displayName": "Applied AI",
      "userId": "13061182627446198291"
     },
     "user_tz": -330
    },
    "id": "74dbd0d5"
   },
   "outputs": [],
   "source": [
    "import pickle"
   ]
  },
  {
   "cell_type": "code",
   "execution_count": null,
   "id": "c15e0b8a",
   "metadata": {
    "executionInfo": {
     "elapsed": 6100,
     "status": "aborted",
     "timestamp": 1692735309807,
     "user": {
      "displayName": "Applied AI",
      "userId": "13061182627446198291"
     },
     "user_tz": -330
    },
    "id": "c15e0b8a"
   },
   "outputs": [],
   "source": [
    "# open a file, where you want to store the data\n",
    "file = open(r'Z:\\Flight_Price\\Datasets/rf_random.pkl' , 'wb')"
   ]
  },
  {
   "cell_type": "code",
   "execution_count": null,
   "id": "d5c62b74",
   "metadata": {
    "executionInfo": {
     "elapsed": 6096,
     "status": "aborted",
     "timestamp": 1692735309807,
     "user": {
      "displayName": "Applied AI",
      "userId": "13061182627446198291"
     },
     "user_tz": -330
    },
    "id": "d5c62b74"
   },
   "outputs": [],
   "source": [
    "# dump information to that file\n",
    "pickle.dump(ml_model , file)"
   ]
  },
  {
   "cell_type": "code",
   "execution_count": null,
   "id": "8bf094c1",
   "metadata": {
    "executionInfo": {
     "elapsed": 6093,
     "status": "aborted",
     "timestamp": 1692735309808,
     "user": {
      "displayName": "Applied AI",
      "userId": "13061182627446198291"
     },
     "user_tz": -330
    },
    "id": "8bf094c1"
   },
   "outputs": [],
   "source": []
  },
  {
   "cell_type": "code",
   "execution_count": null,
   "id": "6f24b246",
   "metadata": {
    "executionInfo": {
     "elapsed": 6091,
     "status": "aborted",
     "timestamp": 1692735309809,
     "user": {
      "displayName": "Applied AI",
      "userId": "13061182627446198291"
     },
     "user_tz": -330
    },
    "id": "6f24b246"
   },
   "outputs": [],
   "source": [
    "model = open(r'Z:\\Flight_Price\\Datasets/rf_random.pkl' , 'rb')"
   ]
  },
  {
   "cell_type": "code",
   "execution_count": null,
   "id": "5977e9b6",
   "metadata": {
    "executionInfo": {
     "elapsed": 6089,
     "status": "aborted",
     "timestamp": 1692735309810,
     "user": {
      "displayName": "Applied AI",
      "userId": "13061182627446198291"
     },
     "user_tz": -330
    },
    "id": "5977e9b6"
   },
   "outputs": [],
   "source": [
    "forest = pickle.load(model)"
   ]
  },
  {
   "cell_type": "code",
   "execution_count": null,
   "id": "cf573d7a",
   "metadata": {
    "executionInfo": {
     "elapsed": 6087,
     "status": "aborted",
     "timestamp": 1692735309811,
     "user": {
      "displayName": "Applied AI",
      "userId": "13061182627446198291"
     },
     "user_tz": -330
    },
    "id": "cf573d7a"
   },
   "outputs": [],
   "source": [
    "y_pred2 = forest.predict(X_test)"
   ]
  },
  {
   "cell_type": "code",
   "execution_count": null,
   "id": "7345d7d3",
   "metadata": {
    "executionInfo": {
     "elapsed": 6073,
     "status": "aborted",
     "timestamp": 1692735309812,
     "user": {
      "displayName": "Applied AI",
      "userId": "13061182627446198291"
     },
     "user_tz": -330
    },
    "id": "7345d7d3"
   },
   "outputs": [],
   "source": [
    "metrics.r2_score(y_test , y_pred2)"
   ]
  },
  {
   "cell_type": "code",
   "execution_count": null,
   "id": "57de04db",
   "metadata": {
    "executionInfo": {
     "elapsed": 6070,
     "status": "aborted",
     "timestamp": 1692735309813,
     "user": {
      "displayName": "Applied AI",
      "userId": "13061182627446198291"
     },
     "user_tz": -330
    },
    "id": "57de04db"
   },
   "outputs": [],
   "source": []
  },
  {
   "cell_type": "code",
   "execution_count": null,
   "id": "4a316145",
   "metadata": {
    "executionInfo": {
     "elapsed": 6067,
     "status": "aborted",
     "timestamp": 1692735309813,
     "user": {
      "displayName": "Applied AI",
      "userId": "13061182627446198291"
     },
     "user_tz": -330
    },
    "id": "4a316145"
   },
   "outputs": [],
   "source": []
  },
  {
   "cell_type": "code",
   "execution_count": null,
   "id": "4c9d7016",
   "metadata": {
    "executionInfo": {
     "elapsed": 6064,
     "status": "aborted",
     "timestamp": 1692735309814,
     "user": {
      "displayName": "Applied AI",
      "userId": "13061182627446198291"
     },
     "user_tz": -330
    },
    "id": "4c9d7016"
   },
   "outputs": [],
   "source": []
  },
  {
   "cell_type": "code",
   "execution_count": null,
   "id": "dde6fe64",
   "metadata": {
    "executionInfo": {
     "elapsed": 6062,
     "status": "aborted",
     "timestamp": 1692735309815,
     "user": {
      "displayName": "Applied AI",
      "userId": "13061182627446198291"
     },
     "user_tz": -330
    },
    "id": "dde6fe64"
   },
   "outputs": [],
   "source": []
  },
  {
   "cell_type": "markdown",
   "id": "474455be",
   "metadata": {
    "id": "474455be"
   },
   "source": [
    "## 15.. How to automate ml pipeline & How to define your Evaluation metric.."
   ]
  },
  {
   "cell_type": "markdown",
   "id": "94076bfd",
   "metadata": {
    "id": "94076bfd"
   },
   "source": [
    "### a.. how to make our own metric..."
   ]
  },
  {
   "cell_type": "code",
   "execution_count": null,
   "id": "ef4c3439",
   "metadata": {
    "executionInfo": {
     "elapsed": 6060,
     "status": "aborted",
     "timestamp": 1692735309816,
     "user": {
      "displayName": "Applied AI",
      "userId": "13061182627446198291"
     },
     "user_tz": -330
    },
    "id": "ef4c3439"
   },
   "outputs": [],
   "source": [
    "def mape(y_true , y_pred):\n",
    "    y_true , y_pred = np.array(y_true) , np.array(y_pred)\n",
    "    return np.mean(np.abs((y_true - y_pred) / y_true)) * 100"
   ]
  },
  {
   "cell_type": "code",
   "execution_count": null,
   "id": "4182bd32",
   "metadata": {
    "executionInfo": {
     "elapsed": 6047,
     "status": "aborted",
     "timestamp": 1692735309817,
     "user": {
      "displayName": "Applied AI",
      "userId": "13061182627446198291"
     },
     "user_tz": -330
    },
    "id": "4182bd32"
   },
   "outputs": [],
   "source": [
    "mape(y_test , y_pred)"
   ]
  },
  {
   "cell_type": "code",
   "execution_count": null,
   "id": "3463a673",
   "metadata": {
    "executionInfo": {
     "elapsed": 6044,
     "status": "aborted",
     "timestamp": 1692735309817,
     "user": {
      "displayName": "Applied AI",
      "userId": "13061182627446198291"
     },
     "user_tz": -330
    },
    "id": "3463a673"
   },
   "outputs": [],
   "source": []
  },
  {
   "cell_type": "markdown",
   "id": "552a569d",
   "metadata": {
    "id": "552a569d"
   },
   "source": [
    "### b.. How to automate ml pipeline !"
   ]
  },
  {
   "cell_type": "code",
   "execution_count": null,
   "id": "bc63fc62",
   "metadata": {
    "executionInfo": {
     "elapsed": 6042,
     "status": "aborted",
     "timestamp": 1692735309819,
     "user": {
      "displayName": "Applied AI",
      "userId": "13061182627446198291"
     },
     "user_tz": -330
    },
    "id": "bc63fc62"
   },
   "outputs": [],
   "source": [
    "'''\n",
    "\n",
    "    Lets automate all the stuffs..\n",
    "    let say ,I will just pass ml algo & i get several results like--\n",
    "\n",
    "    Training score, predictions, r2_score, mse, mae, rmse, mape,distribution of error\n",
    "\n",
    "\n",
    "'''"
   ]
  },
  {
   "cell_type": "code",
   "execution_count": null,
   "id": "7b958a59",
   "metadata": {
    "executionInfo": {
     "elapsed": 6039,
     "status": "aborted",
     "timestamp": 1692735309820,
     "user": {
      "displayName": "Applied AI",
      "userId": "13061182627446198291"
     },
     "user_tz": -330
    },
    "id": "7b958a59"
   },
   "outputs": [],
   "source": [
    "from sklearn import metrics"
   ]
  },
  {
   "cell_type": "code",
   "execution_count": null,
   "id": "0a45e6cc",
   "metadata": {
    "executionInfo": {
     "elapsed": 6037,
     "status": "aborted",
     "timestamp": 1692735309821,
     "user": {
      "displayName": "Applied AI",
      "userId": "13061182627446198291"
     },
     "user_tz": -330
    },
    "id": "0a45e6cc"
   },
   "outputs": [],
   "source": [
    "def predict(ml_model):\n",
    "    model = ml_model.fit(X_train , y_train)\n",
    "    print('Training score : {}'.format(model.score(X_train , y_train)))\n",
    "    y_predection = model.predict(X_test)\n",
    "    print('predictions are : {}'.format(y_predection))\n",
    "    print('\\n')\n",
    "    r2_score = metrics.r2_score(y_test , y_predection)\n",
    "    print('r2 score : {}'.format(r2_score))\n",
    "    print('MAE : {}'.format(metrics.mean_absolute_error(y_test , y_predection)))\n",
    "    print('MSE : {}'.format(metrics.mean_squared_error(y_test , y_predection)))\n",
    "    print('RMSE : {}'.format(np.sqrt(metrics.mean_squared_error(y_test , y_predection))))\n",
    "    print('MAPE : {}'.format(mape(y_test , y_predection)))\n",
    "    sns.distplot(y_test - y_predection)"
   ]
  },
  {
   "cell_type": "code",
   "execution_count": null,
   "id": "96546ad9",
   "metadata": {
    "executionInfo": {
     "elapsed": 5999,
     "status": "aborted",
     "timestamp": 1692735309822,
     "user": {
      "displayName": "Applied AI",
      "userId": "13061182627446198291"
     },
     "user_tz": -330
    },
    "id": "96546ad9"
   },
   "outputs": [],
   "source": [
    "predict(RandomForestRegressor())"
   ]
  },
  {
   "cell_type": "code",
   "execution_count": null,
   "id": "7988d803",
   "metadata": {
    "executionInfo": {
     "elapsed": 5995,
     "status": "aborted",
     "timestamp": 1692735309823,
     "user": {
      "displayName": "Applied AI",
      "userId": "13061182627446198291"
     },
     "user_tz": -330
    },
    "id": "7988d803"
   },
   "outputs": [],
   "source": []
  },
  {
   "cell_type": "code",
   "execution_count": null,
   "id": "54584804",
   "metadata": {
    "executionInfo": {
     "elapsed": 5993,
     "status": "aborted",
     "timestamp": 1692735309824,
     "user": {
      "displayName": "Applied AI",
      "userId": "13061182627446198291"
     },
     "user_tz": -330
    },
    "id": "54584804"
   },
   "outputs": [],
   "source": [
    "from sklearn.tree import DecisionTreeRegressor"
   ]
  },
  {
   "cell_type": "code",
   "execution_count": null,
   "id": "fc4396fb",
   "metadata": {
    "executionInfo": {
     "elapsed": 5976,
     "status": "aborted",
     "timestamp": 1692735309825,
     "user": {
      "displayName": "Applied AI",
      "userId": "13061182627446198291"
     },
     "user_tz": -330
    },
    "id": "fc4396fb"
   },
   "outputs": [],
   "source": [
    "predict(DecisionTreeRegressor())"
   ]
  },
  {
   "cell_type": "code",
   "execution_count": null,
   "id": "2f44152d",
   "metadata": {
    "executionInfo": {
     "elapsed": 5970,
     "status": "aborted",
     "timestamp": 1692735309826,
     "user": {
      "displayName": "Applied AI",
      "userId": "13061182627446198291"
     },
     "user_tz": -330
    },
    "id": "2f44152d"
   },
   "outputs": [],
   "source": []
  },
  {
   "cell_type": "code",
   "execution_count": null,
   "id": "cb77f0e1",
   "metadata": {
    "executionInfo": {
     "elapsed": 5962,
     "status": "aborted",
     "timestamp": 1692735309827,
     "user": {
      "displayName": "Applied AI",
      "userId": "13061182627446198291"
     },
     "user_tz": -330
    },
    "id": "cb77f0e1"
   },
   "outputs": [],
   "source": []
  },
  {
   "cell_type": "code",
   "execution_count": null,
   "id": "12119855",
   "metadata": {
    "executionInfo": {
     "elapsed": 5958,
     "status": "aborted",
     "timestamp": 1692735309828,
     "user": {
      "displayName": "Applied AI",
      "userId": "13061182627446198291"
     },
     "user_tz": -330
    },
    "id": "12119855"
   },
   "outputs": [],
   "source": []
  },
  {
   "cell_type": "code",
   "execution_count": null,
   "id": "03aae0e3",
   "metadata": {
    "executionInfo": {
     "elapsed": 5950,
     "status": "aborted",
     "timestamp": 1692735309829,
     "user": {
      "displayName": "Applied AI",
      "userId": "13061182627446198291"
     },
     "user_tz": -330
    },
    "id": "03aae0e3"
   },
   "outputs": [],
   "source": []
  },
  {
   "cell_type": "markdown",
   "id": "e661b750",
   "metadata": {
    "id": "e661b750"
   },
   "source": [
    "## 16.. how to hypertune ml model"
   ]
  },
  {
   "cell_type": "code",
   "execution_count": null,
   "id": "0beb6194",
   "metadata": {
    "executionInfo": {
     "elapsed": 5945,
     "status": "aborted",
     "timestamp": 1692735309830,
     "user": {
      "displayName": "Applied AI",
      "userId": "13061182627446198291"
     },
     "user_tz": -330
    },
    "id": "0beb6194"
   },
   "outputs": [],
   "source": [
    "## how to select which ML algo we should apply for\n",
    "## ans is use Multiple Algos,then go for Hyper-parameter Optimization,then for Cross Validation then go for various metrics\n",
    "## & based on domain expertise knowledge Then I can say ya this model perfoms best"
   ]
  },
  {
   "cell_type": "markdown",
   "id": "f51342b5",
   "metadata": {
    "id": "f51342b5"
   },
   "source": [
    "### Hyperparameter Tuning or Hyperparameter Optimization\n",
    "    1.Choose following method for hyperparameter tuning\n",
    "        a.RandomizedSearchCV --> Fast way to Hypertune model\n",
    "        b.GridSearchCV--> Slower way to hypertune my model\n",
    "    2.Choose ML algo that u have to hypertune\n",
    "    2.Assign hyperparameters in form of dictionary or create hyper-parameter space\n",
    "    3.define searching &  apply searching on Training data or  Fit the CV model\n",
    "    4.Check best parameters and best score"
   ]
  },
  {
   "cell_type": "code",
   "execution_count": null,
   "id": "647c6021",
   "metadata": {
    "executionInfo": {
     "elapsed": 5941,
     "status": "aborted",
     "timestamp": 1692735309830,
     "user": {
      "displayName": "Applied AI",
      "userId": "13061182627446198291"
     },
     "user_tz": -330
    },
    "id": "647c6021"
   },
   "outputs": [],
   "source": [
    "from sklearn.model_selection import RandomizedSearchCV"
   ]
  },
  {
   "cell_type": "code",
   "execution_count": null,
   "id": "165073f0",
   "metadata": {
    "executionInfo": {
     "elapsed": 5938,
     "status": "aborted",
     "timestamp": 1692735309831,
     "user": {
      "displayName": "Applied AI",
      "userId": "13061182627446198291"
     },
     "user_tz": -330
    },
    "id": "165073f0"
   },
   "outputs": [],
   "source": [
    "### initialise your estimator\n",
    "reg_rf = RandomForestRegressor()"
   ]
  },
  {
   "cell_type": "code",
   "execution_count": null,
   "id": "9456f9e9",
   "metadata": {
    "executionInfo": {
     "elapsed": 5935,
     "status": "aborted",
     "timestamp": 1692735309832,
     "user": {
      "displayName": "Applied AI",
      "userId": "13061182627446198291"
     },
     "user_tz": -330
    },
    "id": "9456f9e9"
   },
   "outputs": [],
   "source": []
  },
  {
   "cell_type": "code",
   "execution_count": null,
   "id": "6ca1bab5",
   "metadata": {
    "executionInfo": {
     "elapsed": 5921,
     "status": "aborted",
     "timestamp": 1692735309833,
     "user": {
      "displayName": "Applied AI",
      "userId": "13061182627446198291"
     },
     "user_tz": -330
    },
    "id": "6ca1bab5"
   },
   "outputs": [],
   "source": [
    "np.linspace(start =100 , stop=1200 , num=6)"
   ]
  },
  {
   "cell_type": "code",
   "execution_count": null,
   "id": "c4f9e60f",
   "metadata": {
    "executionInfo": {
     "elapsed": 5919,
     "status": "aborted",
     "timestamp": 1692735309834,
     "user": {
      "displayName": "Applied AI",
      "userId": "13061182627446198291"
     },
     "user_tz": -330
    },
    "id": "c4f9e60f"
   },
   "outputs": [],
   "source": [
    "# Number of trees in random forest\n",
    "n_estimators = [int(x) for x in np.linspace(start =100 , stop=1200 , num=6)]\n",
    "\n",
    "# Number of features to consider at every split\n",
    "max_features = [\"auto\", \"sqrt\"]\n",
    "\n",
    "# Maximum number of levels in tree\n",
    "max_depth = [int(x) for x in np.linspace(start =5 , stop=30 , num=4)]\n",
    "\n",
    "# Minimum number of samples required to split a node\n",
    "min_samples_split = [5,10,15,100]\n"
   ]
  },
  {
   "cell_type": "code",
   "execution_count": null,
   "id": "28671b71",
   "metadata": {
    "executionInfo": {
     "elapsed": 5913,
     "status": "aborted",
     "timestamp": 1692735309835,
     "user": {
      "displayName": "Applied AI",
      "userId": "13061182627446198291"
     },
     "user_tz": -330
    },
    "id": "28671b71"
   },
   "outputs": [],
   "source": [
    "# Create the random grid or hyper-parameter space\n",
    "\n",
    "random_grid = {\n",
    "    'n_estimators' : n_estimators ,\n",
    "    'max_features' : max_features ,\n",
    "    'max_depth' : max_depth ,\n",
    "    'min_samples_split' : min_samples_split\n",
    "}"
   ]
  },
  {
   "cell_type": "code",
   "execution_count": null,
   "id": "12604b52",
   "metadata": {
    "executionInfo": {
     "elapsed": 5895,
     "status": "aborted",
     "timestamp": 1692735309836,
     "user": {
      "displayName": "Applied AI",
      "userId": "13061182627446198291"
     },
     "user_tz": -330
    },
    "id": "12604b52"
   },
   "outputs": [],
   "source": [
    "random_grid"
   ]
  },
  {
   "cell_type": "code",
   "execution_count": null,
   "id": "576cbaf4",
   "metadata": {
    "executionInfo": {
     "elapsed": 5893,
     "status": "aborted",
     "timestamp": 1692735309837,
     "user": {
      "displayName": "Applied AI",
      "userId": "13061182627446198291"
     },
     "user_tz": -330
    },
    "id": "576cbaf4"
   },
   "outputs": [],
   "source": []
  },
  {
   "cell_type": "code",
   "execution_count": null,
   "id": "aee977ca",
   "metadata": {
    "executionInfo": {
     "elapsed": 5890,
     "status": "aborted",
     "timestamp": 1692735309838,
     "user": {
      "displayName": "Applied AI",
      "userId": "13061182627446198291"
     },
     "user_tz": -330
    },
    "id": "aee977ca"
   },
   "outputs": [],
   "source": [
    "\n",
    "## Define searching\n",
    "\n",
    "# Random search of parameters, using 3 fold cross validation\n",
    "# search across 576 different combinations\n",
    "\n",
    "\n",
    "rf_random = RandomizedSearchCV(estimator=reg_rf , param_distributions=random_grid , cv=3 , n_jobs=-1 , verbose=2)"
   ]
  },
  {
   "cell_type": "code",
   "execution_count": null,
   "id": "f8746de9",
   "metadata": {
    "executionInfo": {
     "elapsed": 5884,
     "status": "aborted",
     "timestamp": 1692735309846,
     "user": {
      "displayName": "Applied AI",
      "userId": "13061182627446198291"
     },
     "user_tz": -330
    },
    "id": "f8746de9"
   },
   "outputs": [],
   "source": [
    "rf_random.fit(X_train , y_train)"
   ]
  },
  {
   "cell_type": "code",
   "execution_count": null,
   "id": "f7dc6988",
   "metadata": {
    "executionInfo": {
     "elapsed": 5871,
     "status": "aborted",
     "timestamp": 1692735309847,
     "user": {
      "displayName": "Applied AI",
      "userId": "13061182627446198291"
     },
     "user_tz": -330
    },
    "id": "f7dc6988"
   },
   "outputs": [],
   "source": [
    "rf_random.best_params_"
   ]
  },
  {
   "cell_type": "code",
   "execution_count": null,
   "id": "5e3b4cc3",
   "metadata": {
    "executionInfo": {
     "elapsed": 5868,
     "status": "aborted",
     "timestamp": 1692735309848,
     "user": {
      "displayName": "Applied AI",
      "userId": "13061182627446198291"
     },
     "user_tz": -330
    },
    "id": "5e3b4cc3"
   },
   "outputs": [],
   "source": [
    "#### In your case , may be your parameters may vary a little bit , thats not a major issue.."
   ]
  },
  {
   "cell_type": "code",
   "execution_count": null,
   "id": "a042be3a",
   "metadata": {
    "executionInfo": {
     "elapsed": 5848,
     "status": "aborted",
     "timestamp": 1692735309848,
     "user": {
      "displayName": "Applied AI",
      "userId": "13061182627446198291"
     },
     "user_tz": -330
    },
    "id": "a042be3a"
   },
   "outputs": [],
   "source": [
    "rf_random.best_estimator_"
   ]
  },
  {
   "cell_type": "code",
   "execution_count": null,
   "id": "6bba40e3",
   "metadata": {
    "executionInfo": {
     "elapsed": 5834,
     "status": "aborted",
     "timestamp": 1692735309849,
     "user": {
      "displayName": "Applied AI",
      "userId": "13061182627446198291"
     },
     "user_tz": -330
    },
    "id": "6bba40e3"
   },
   "outputs": [],
   "source": [
    "rf_random.best_score_"
   ]
  },
  {
   "cell_type": "code",
   "execution_count": null,
   "id": "276d1804",
   "metadata": {
    "executionInfo": {
     "elapsed": 5832,
     "status": "aborted",
     "timestamp": 1692735309850,
     "user": {
      "displayName": "Applied AI",
      "userId": "13061182627446198291"
     },
     "user_tz": -330
    },
    "id": "276d1804"
   },
   "outputs": [],
   "source": []
  },
  {
   "cell_type": "code",
   "execution_count": null,
   "id": "77c59357",
   "metadata": {
    "executionInfo": {
     "elapsed": 5830,
     "status": "aborted",
     "timestamp": 1692735309851,
     "user": {
      "displayName": "Applied AI",
      "userId": "13061182627446198291"
     },
     "user_tz": -330
    },
    "id": "77c59357"
   },
   "outputs": [],
   "source": []
  },
  {
   "cell_type": "code",
   "execution_count": null,
   "id": "c0755191",
   "metadata": {
    "executionInfo": {
     "elapsed": 5828,
     "status": "aborted",
     "timestamp": 1692735309851,
     "user": {
      "displayName": "Applied AI",
      "userId": "13061182627446198291"
     },
     "user_tz": -330
    },
    "id": "c0755191"
   },
   "outputs": [],
   "source": []
  }
 ],
 "metadata": {
  "colab": {
   "provenance": []
  },
  "kernelspec": {
   "display_name": "Python 3 (ipykernel)",
   "language": "python",
   "name": "python3"
  },
  "language_info": {
   "codemirror_mode": {
    "name": "ipython",
    "version": 3
   },
   "file_extension": ".py",
   "mimetype": "text/x-python",
   "name": "python",
   "nbconvert_exporter": "python",
   "pygments_lexer": "ipython3",
   "version": "3.11.4"
  }
 },
 "nbformat": 4,
 "nbformat_minor": 5
}
